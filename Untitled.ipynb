{
 "cells": [
  {
   "cell_type": "code",
   "execution_count": 1,
   "id": "fc662997-8508-4497-8131-efbaa4d55ee9",
   "metadata": {},
   "outputs": [],
   "source": [
    "import pandas as pd\n",
    "from pandas import Series, DataFrame"
   ]
  },
  {
   "cell_type": "code",
   "execution_count": 2,
   "id": "f0c86269-38c2-4fbb-85be-702a510c23df",
   "metadata": {},
   "outputs": [
    {
     "data": {
      "text/html": [
       "<div>\n",
       "<style scoped>\n",
       "    .dataframe tbody tr th:only-of-type {\n",
       "        vertical-align: middle;\n",
       "    }\n",
       "\n",
       "    .dataframe tbody tr th {\n",
       "        vertical-align: top;\n",
       "    }\n",
       "\n",
       "    .dataframe thead th {\n",
       "        text-align: right;\n",
       "    }\n",
       "</style>\n",
       "<table border=\"1\" class=\"dataframe\">\n",
       "  <thead>\n",
       "    <tr style=\"text-align: right;\">\n",
       "      <th></th>\n",
       "      <th>col1</th>\n",
       "      <th>col2</th>\n",
       "      <th>col3</th>\n",
       "      <th>col4</th>\n",
       "    </tr>\n",
       "  </thead>\n",
       "  <tbody>\n",
       "    <tr>\n",
       "      <th>0</th>\n",
       "      <td>a</td>\n",
       "      <td>1.0</td>\n",
       "      <td>a</td>\n",
       "      <td>10.0</td>\n",
       "    </tr>\n",
       "    <tr>\n",
       "      <th>1</th>\n",
       "      <td>b</td>\n",
       "      <td>2.0</td>\n",
       "      <td>b</td>\n",
       "      <td>20.0</td>\n",
       "    </tr>\n",
       "    <tr>\n",
       "      <th>2</th>\n",
       "      <td>c</td>\n",
       "      <td>3.0</td>\n",
       "      <td>NaN</td>\n",
       "      <td>NaN</td>\n",
       "    </tr>\n",
       "    <tr>\n",
       "      <th>3</th>\n",
       "      <td>NaN</td>\n",
       "      <td>NaN</td>\n",
       "      <td>f</td>\n",
       "      <td>30.0</td>\n",
       "    </tr>\n",
       "  </tbody>\n",
       "</table>\n",
       "</div>"
      ],
      "text/plain": [
       "  col1  col2 col3  col4\n",
       "0    a   1.0    a  10.0\n",
       "1    b   2.0    b  20.0\n",
       "2    c   3.0  NaN   NaN\n",
       "3  NaN   NaN    f  30.0"
      ]
     },
     "execution_count": 2,
     "metadata": {},
     "output_type": "execute_result"
    }
   ],
   "source": [
    "data1 = {'col1' : ['a','b','c'], 'col2' : [1,2,3]}\n",
    "data2 = {'col3' : ['a','b','f'], 'col4' : [10,20,30]}\n",
    "df1 = pd.DataFrame(data1)\n",
    "df2 = pd.DataFrame(data2)\n",
    "\n",
    "result = pd.merge(df1, df2, left_on = 'col1', right_on = 'col3', how = 'outer')\n",
    "result"
   ]
  },
  {
   "cell_type": "code",
   "execution_count": 3,
   "id": "5f599be2-bbfc-4646-87b7-a15b772fb7d1",
   "metadata": {},
   "outputs": [
    {
     "data": {
      "text/html": [
       "<div>\n",
       "<style scoped>\n",
       "    .dataframe tbody tr th:only-of-type {\n",
       "        vertical-align: middle;\n",
       "    }\n",
       "\n",
       "    .dataframe tbody tr th {\n",
       "        vertical-align: top;\n",
       "    }\n",
       "\n",
       "    .dataframe thead th {\n",
       "        text-align: right;\n",
       "    }\n",
       "</style>\n",
       "<table border=\"1\" class=\"dataframe\">\n",
       "  <thead>\n",
       "    <tr style=\"text-align: right;\">\n",
       "      <th></th>\n",
       "      <th>name</th>\n",
       "      <th>score</th>\n",
       "    </tr>\n",
       "  </thead>\n",
       "  <tbody>\n",
       "    <tr>\n",
       "      <th>1</th>\n",
       "      <td>영희</td>\n",
       "      <td>88</td>\n",
       "    </tr>\n",
       "    <tr>\n",
       "      <th>2</th>\n",
       "      <td>민수</td>\n",
       "      <td>92</td>\n",
       "    </tr>\n",
       "  </tbody>\n",
       "</table>\n",
       "</div>"
      ],
      "text/plain": [
       "  name  score\n",
       "1   영희     88\n",
       "2   민수     92"
      ]
     },
     "execution_count": 3,
     "metadata": {},
     "output_type": "execute_result"
    }
   ],
   "source": [
    "data = {'name' : ['철수','영희','민수','지영'], 'score' : [75,88,92,68]}\n",
    "df = pd.DataFrame(data)\n",
    "\n",
    "result = df[df['score'] >= 80]\n",
    "result"
   ]
  },
  {
   "cell_type": "code",
   "execution_count": 4,
   "id": "f4105ada-5214-4e00-be03-80ca88156a49",
   "metadata": {},
   "outputs": [
    {
     "data": {
      "text/html": [
       "<div>\n",
       "<style scoped>\n",
       "    .dataframe tbody tr th:only-of-type {\n",
       "        vertical-align: middle;\n",
       "    }\n",
       "\n",
       "    .dataframe tbody tr th {\n",
       "        vertical-align: top;\n",
       "    }\n",
       "\n",
       "    .dataframe thead th {\n",
       "        text-align: right;\n",
       "    }\n",
       "</style>\n",
       "<table border=\"1\" class=\"dataframe\">\n",
       "  <thead>\n",
       "    <tr style=\"text-align: right;\">\n",
       "      <th></th>\n",
       "      <th>name</th>\n",
       "      <th>score</th>\n",
       "    </tr>\n",
       "  </thead>\n",
       "  <tbody>\n",
       "    <tr>\n",
       "      <th>0</th>\n",
       "      <td>철수</td>\n",
       "      <td>75</td>\n",
       "    </tr>\n",
       "    <tr>\n",
       "      <th>1</th>\n",
       "      <td>영희</td>\n",
       "      <td>88</td>\n",
       "    </tr>\n",
       "    <tr>\n",
       "      <th>2</th>\n",
       "      <td>민수</td>\n",
       "      <td>92</td>\n",
       "    </tr>\n",
       "    <tr>\n",
       "      <th>3</th>\n",
       "      <td>지영</td>\n",
       "      <td>68</td>\n",
       "    </tr>\n",
       "    <tr>\n",
       "      <th>4</th>\n",
       "      <td>다현</td>\n",
       "      <td>96</td>\n",
       "    </tr>\n",
       "  </tbody>\n",
       "</table>\n",
       "</div>"
      ],
      "text/plain": [
       "  name  score\n",
       "0   철수     75\n",
       "1   영희     88\n",
       "2   민수     92\n",
       "3   지영     68\n",
       "4   다현     96"
      ]
     },
     "execution_count": 4,
     "metadata": {},
     "output_type": "execute_result"
    }
   ],
   "source": [
    "data1 = {'name' : ['철수','영희','민수'], 'score' : [75,88,92]}\n",
    "data2 = {'name' : ['지영','다현'], 'score' : [68,96]}\n",
    "df1 = pd.DataFrame(data1)\n",
    "df2 = pd.DataFrame(data2)\n",
    "\n",
    "list = [df1, df2]\n",
    "\n",
    "result = pd.concat(list, axis = 0, ignore_index = True)\n",
    "result"
   ]
  },
  {
   "cell_type": "code",
   "execution_count": 6,
   "id": "ddd6ba35-847b-4b7c-af0b-0d892519c129",
   "metadata": {},
   "outputs": [
    {
     "data": {
      "text/html": [
       "<div>\n",
       "<style scoped>\n",
       "    .dataframe tbody tr th:only-of-type {\n",
       "        vertical-align: middle;\n",
       "    }\n",
       "\n",
       "    .dataframe tbody tr th {\n",
       "        vertical-align: top;\n",
       "    }\n",
       "\n",
       "    .dataframe thead th {\n",
       "        text-align: right;\n",
       "    }\n",
       "</style>\n",
       "<table border=\"1\" class=\"dataframe\">\n",
       "  <thead>\n",
       "    <tr style=\"text-align: right;\">\n",
       "      <th></th>\n",
       "      <th>name</th>\n",
       "      <th>score</th>\n",
       "      <th>rate</th>\n",
       "    </tr>\n",
       "  </thead>\n",
       "  <tbody>\n",
       "    <tr>\n",
       "      <th>0</th>\n",
       "      <td>철수</td>\n",
       "      <td>75</td>\n",
       "      <td>80</td>\n",
       "    </tr>\n",
       "    <tr>\n",
       "      <th>1</th>\n",
       "      <td>영희</td>\n",
       "      <td>88</td>\n",
       "      <td>90</td>\n",
       "    </tr>\n",
       "  </tbody>\n",
       "</table>\n",
       "</div>"
      ],
      "text/plain": [
       "  name  score  rate\n",
       "0   철수     75    80\n",
       "1   영희     88    90"
      ]
     },
     "execution_count": 6,
     "metadata": {},
     "output_type": "execute_result"
    }
   ],
   "source": [
    "data1 = {'name' : ['철수','영희','민수'], 'score' : [75,88,92]}\n",
    "data2 = {'name' : ['영희','철수','지영','다현'], 'rate' : [90,80,95,85]}\n",
    "df1 = pd.DataFrame(data1)\n",
    "df2 = pd.DataFrame(data2)\n",
    "\n",
    "result = pd.merge(df1, df2)\n",
    "result"
   ]
  },
  {
   "cell_type": "markdown",
   "id": "481cf979-31ab-4647-af93-ca34ae74b0eb",
   "metadata": {},
   "source": [
    " 20. 윈도우 git Bash 터미널에서 다음 작업을 수행하는데 올바른 명령어를 적으시오. \n",
    "(1) 현재 작업 디렉터리를 확인하기 = pwd\n",
    "(2) 현재 디렉터리의 모든 파일과 디렉터리를 표시하기 = ls\n",
    "(3) 현재 작업 디렉터리가 “/C/Users/USER”일 때 “Desktop”으로 변경하시오 = cd /C/Users/USER/Desktop\n",
    "(4) BeautifulSoup 라이브러리를 설치하기 = pip install beautifulsoup4\n",
    "(5) \"file.txt\" 파일의 내용을 출력하기 = cat file.txt\n",
    "(6) 이름이 \"myenv\"인 가상환경을 생성하기 = python -m venv myenv\n",
    "(7) \"myenv\"인 가상환경을 활성화하기 = source myenv/Scripts/activate\n",
    "(8) 가상환경을 비활성화하기 = deactivate\n",
    "(9) 변경 사항을 “initial Add”으로 깃 커밋하기 = git commit -m \"initial Add\""
   ]
  },
  {
   "cell_type": "code",
   "execution_count": 7,
   "id": "b25b2d20-3110-4271-9d7e-d7daa93f539e",
   "metadata": {},
   "outputs": [],
   "source": [
    "data = {\n",
    " '이름': ['철수', '영희', '민수', '지영'],\n",
    " '나이': [25, 30, 22, 28],\n",
    " '성별': ['남자', '여자', '남자', '여자']\n",
    "}\n",
    "df = pd.DataFrame(data)\n",
    "\n",
    "df.to_csv('data.csv', index = False)\n",
    "df.to_json('data.json', orient = 'records')"
   ]
  },
  {
   "cell_type": "code",
   "execution_count": 8,
   "id": "18c122d6-f929-48ad-88a8-dd76fbf637d9",
   "metadata": {},
   "outputs": [
    {
     "name": "stdout",
     "output_type": "stream",
     "text": [
      "    A   B\n",
      "0  A0  B0\n",
      "1  A1  B1\n",
      "2  A2  B2\n",
      "3  A3  B3\n",
      "4  A4  B4\n",
      "5  A5  B5\n"
     ]
    }
   ],
   "source": [
    "import pandas as pd\n",
    " # 두 개의 데이터프레임 생성\n",
    "df1 = pd.DataFrame({'A': ['A0', 'A1', 'A2'],\n",
    "                    'B': ['B0', 'B1', 'B2']})\n",
    "df2 = pd.DataFrame({'A': ['A3', 'A4', 'A5'],\n",
    "                    'B': ['B3', 'B4', 'B5']})\n",
    " # 여기에 코드를 작성하세요\n",
    "list = [df1,df2]\n",
    "result = pd.concat(list, axis = 0, ignore_index = True)\n",
    " # 결과 출력\n",
    "print(result)"
   ]
  },
  {
   "cell_type": "code",
   "execution_count": 9,
   "id": "fc221bda-9416-4082-ac30-a6042b1bbc50",
   "metadata": {},
   "outputs": [
    {
     "name": "stdout",
     "output_type": "stream",
     "text": [
      "  key   A   B\n",
      "0  K0  A0  B0\n",
      "1  K1  A1  B1\n",
      "2  K2  A2  B2\n"
     ]
    }
   ],
   "source": [
    "import pandas as pd\n",
    " # 두 개의 데이터프레임 생성\n",
    "left = pd.DataFrame({'key': ['K0', 'K1', 'K2'],\n",
    "                     'A': ['A0', 'A1', 'A2']})\n",
    "right = pd.DataFrame({'key': ['K0', 'K1', 'K2'],\n",
    "                      'B': ['B0', 'B1', 'B2']})\n",
    " # 여기에 코드를 작성하세요\n",
    "result = pd.merge(left, right, left_on = 'key', right_on = 'key', how = 'outer')\n",
    " # 결과 출력\n",
    "print(result)"
   ]
  },
  {
   "cell_type": "code",
   "execution_count": 11,
   "id": "b675e616-15e5-432e-95c2-e19b1f4df8fb",
   "metadata": {},
   "outputs": [
    {
     "name": "stdout",
     "output_type": "stream",
     "text": [
      "  name  score\n",
      "0   철수     80\n",
      "1   영희     75\n",
      "2   민수     90\n",
      "3   지영     85\n",
      "  name  score\n",
      "0   민수     90\n",
      "1   영희     75\n",
      "2   지영     85\n",
      "3   철수     80\n"
     ]
    }
   ],
   "source": [
    "data1 = {'name' : ['철수','영희','민수'], 'score' : [80,75,90]}\n",
    "data2 = {'name' : ['지영'], 'score' : [85]}\n",
    "df1 = pd.DataFrame(data1)\n",
    "new = pd.DataFrame(data2)\n",
    "\n",
    "list = [df1, new]\n",
    "\n",
    "concat_result = pd.concat(list, axis = 0, ignore_index = True)\n",
    "merge_result = pd.merge(df1, new, how = 'outer')\n",
    "\n",
    "print(concat_result)\n",
    "print(merge_result)"
   ]
  },
  {
   "cell_type": "code",
   "execution_count": 14,
   "id": "bd04ce88-252d-4010-8425-3ac902ff9166",
   "metadata": {},
   "outputs": [
    {
     "name": "stdout",
     "output_type": "stream",
     "text": [
      "   0  1  2   3   4\n",
      "X  1  4  7  10  13\n",
      "Y  2  5  8  11  14\n",
      "Z  3  6  9  12  15\n",
      "   A  B  C   D   E\n",
      "X  1  4  7  10  13\n",
      "Y  2  5  8  11  14\n",
      "Z  3  6  9  12  15\n"
     ]
    }
   ],
   "source": [
    "data1 = {'A' : [1,2,3], 'B' : [4,5,6]}\n",
    "data2 = {'C' : [7,8,9], 'D' : [10,11,12]}\n",
    "datas = {'E' : [13,14,15]}\n",
    "df1 = pd.DataFrame(data1, index = ['X','Y','Z'])\n",
    "df2 = pd.DataFrame(data2, index = ['X','Y','Z'])\n",
    "dfs = pd.DataFrame(datas, index = ['X','Y','Z'])\n",
    "\n",
    "list = [df1,df2,dfs]\n",
    "\n",
    "concat_result = pd.concat(list, axis = 1, ignore_index = True)\n",
    "sub = pd.merge(df1,df2, left_index = True, right_index = True)\n",
    "merge_result = pd.merge(sub, dfs, left_index = True, right_index = True)\n",
    "\n",
    "print(concat_result)\n",
    "print(merge_result)"
   ]
  },
  {
   "cell_type": "code",
   "execution_count": 16,
   "id": "ecd43b83-2a55-4fa7-8d12-f8f00baaa6cf",
   "metadata": {},
   "outputs": [
    {
     "name": "stdout",
     "output_type": "stream",
     "text": [
      "  name    국어         영어         수학     총점   이름\n",
      "0   철수    90         85         75    250  NaN\n",
      "1   영희    80         95         80    255  NaN\n",
      "2   민수    85         70         90    245  NaN\n",
      "3  NaN  85.0  83.333333  81.666667  250.0   평균\n"
     ]
    }
   ],
   "source": [
    "data1 = {'name' : ['철수','영희','민수'],'국어' : [90,80,85],\n",
    "        '영어' : [85,95,70], '수학' : [75,80,90]}\n",
    "df = pd.DataFrame(data1)\n",
    "\n",
    "df['총점'] = df.apply(lambda row:row['국어']+row['영어']+row['수학'], axis = 1)\n",
    "\n",
    "avg = df.iloc[:, 1:].mean()\n",
    "avg['이름'] = '평균'\n",
    "df = pd.concat([df, pd.DataFrame(avg).transpose()], ignore_index = True)\n",
    "print(df)"
   ]
  }
 ],
 "metadata": {
  "kernelspec": {
   "display_name": "Python 3 (ipykernel)",
   "language": "python",
   "name": "python3"
  },
  "language_info": {
   "codemirror_mode": {
    "name": "ipython",
    "version": 3
   },
   "file_extension": ".py",
   "mimetype": "text/x-python",
   "name": "python",
   "nbconvert_exporter": "python",
   "pygments_lexer": "ipython3",
   "version": "3.12.2"
  }
 },
 "nbformat": 4,
 "nbformat_minor": 5
}
