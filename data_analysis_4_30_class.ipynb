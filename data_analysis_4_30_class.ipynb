{
 "cells": [
  {
   "cell_type": "code",
   "execution_count": 6,
   "metadata": {
    "executionInfo": {
     "elapsed": 448,
     "status": "ok",
     "timestamp": 1714395569318,
     "user": {
      "displayName": "김유희",
      "userId": "00390714496880607784"
     },
     "user_tz": -540
    },
    "id": "PFIGL7wih7Jp"
   },
   "outputs": [],
   "source": [
    "import numpy as np\n",
    "import pandas as pd\n",
    "PREVIOUS_MAX_ROWS = pd.options.display.max_rows\n",
    "pd.options.display.max_columns = 20\n",
    "pd.options.display.max_rows = 20\n",
    "pd.options.display.max_colwidth = 80\n",
    "np.random.seed(12345)\n",
    "import matplotlib.pyplot as plt\n",
    "plt.rc(\"figure\", figsize=(10, 6))\n",
    "np.set_printoptions(precision=4, suppress=True)\n",
    "plt.rcParams[\"font.family\"] = 'Malgun Gothic'\n"
   ]
  },
  {
   "cell_type": "markdown",
   "metadata": {
    "id": "W9rF2gxWN5a4"
   },
   "source": [
    "## # 7장 데이터 정제 및 준비(Data Cleaning and Preparation)\n",
    "* 7.1 누락된 데이터 처리하기\n",
    "  * np.nan\n",
    "  * None\n",
    "  * isna() : 결측치에 대해 True 값으로 반환\n",
    "  * dropna() : 결측치 제거하기\n",
    "  * fillna() :결측값을 다른 값으로 채우는 데 사용\n"
   ]
  },
  {
   "cell_type": "code",
   "execution_count": 7,
   "metadata": {
    "colab": {
     "base_uri": "https://localhost:8080/",
     "height": 290
    },
    "executionInfo": {
     "elapsed": 296,
     "status": "ok",
     "timestamp": 1714375324074,
     "user": {
      "displayName": "김유희",
      "userId": "00390714496880607784"
     },
     "user_tz": -540
    },
    "id": "Hu_3a4eAtKUX",
    "outputId": "4a10c79c-6612-4903-a6e3-ad2ea1789448"
   },
   "outputs": [
    {
     "name": "stdout",
     "output_type": "stream",
     "text": [
      "          0         1         2\n",
      "0 -0.204708       NaN       NaN\n",
      "1 -0.555730       NaN       NaN\n",
      "2  0.092908       NaN  0.769023\n",
      "3  1.246435       NaN -1.296221\n",
      "4  0.274992  0.228913  1.352917\n",
      "5  0.886429 -2.001637 -0.371843\n",
      "6  1.669025 -0.438570 -0.539741\n"
     ]
    },
    {
     "data": {
      "text/html": [
       "<div>\n",
       "<style scoped>\n",
       "    .dataframe tbody tr th:only-of-type {\n",
       "        vertical-align: middle;\n",
       "    }\n",
       "\n",
       "    .dataframe tbody tr th {\n",
       "        vertical-align: top;\n",
       "    }\n",
       "\n",
       "    .dataframe thead th {\n",
       "        text-align: right;\n",
       "    }\n",
       "</style>\n",
       "<table border=\"1\" class=\"dataframe\">\n",
       "  <thead>\n",
       "    <tr style=\"text-align: right;\">\n",
       "      <th></th>\n",
       "      <th>0</th>\n",
       "      <th>1</th>\n",
       "      <th>2</th>\n",
       "    </tr>\n",
       "  </thead>\n",
       "  <tbody>\n",
       "    <tr>\n",
       "      <th>0</th>\n",
       "      <td>-0.204708</td>\n",
       "      <td>-0.737098</td>\n",
       "      <td>-0.017173</td>\n",
       "    </tr>\n",
       "    <tr>\n",
       "      <th>1</th>\n",
       "      <td>-0.555730</td>\n",
       "      <td>-0.737098</td>\n",
       "      <td>-0.017173</td>\n",
       "    </tr>\n",
       "    <tr>\n",
       "      <th>2</th>\n",
       "      <td>0.092908</td>\n",
       "      <td>-0.737098</td>\n",
       "      <td>0.769023</td>\n",
       "    </tr>\n",
       "    <tr>\n",
       "      <th>3</th>\n",
       "      <td>1.246435</td>\n",
       "      <td>-0.737098</td>\n",
       "      <td>-1.296221</td>\n",
       "    </tr>\n",
       "    <tr>\n",
       "      <th>4</th>\n",
       "      <td>0.274992</td>\n",
       "      <td>0.228913</td>\n",
       "      <td>1.352917</td>\n",
       "    </tr>\n",
       "    <tr>\n",
       "      <th>5</th>\n",
       "      <td>0.886429</td>\n",
       "      <td>-2.001637</td>\n",
       "      <td>-0.371843</td>\n",
       "    </tr>\n",
       "    <tr>\n",
       "      <th>6</th>\n",
       "      <td>1.669025</td>\n",
       "      <td>-0.438570</td>\n",
       "      <td>-0.539741</td>\n",
       "    </tr>\n",
       "  </tbody>\n",
       "</table>\n",
       "</div>"
      ],
      "text/plain": [
       "          0         1         2\n",
       "0 -0.204708 -0.737098 -0.017173\n",
       "1 -0.555730 -0.737098 -0.017173\n",
       "2  0.092908 -0.737098  0.769023\n",
       "3  1.246435 -0.737098 -1.296221\n",
       "4  0.274992  0.228913  1.352917\n",
       "5  0.886429 -2.001637 -0.371843\n",
       "6  1.669025 -0.438570 -0.539741"
      ]
     },
     "execution_count": 7,
     "metadata": {},
     "output_type": "execute_result"
    }
   ],
   "source": [
    "# ex : 다음 주어진 결측치을 담고 있는 데이터프레임에 대해 정제 작업하기\n",
    "df = pd.DataFrame(np.random.standard_normal((7, 3)))\n",
    "df.iloc[:4, 1] = np.nan\n",
    "df.iloc[:2, 2] = np.nan\n",
    "print(df)\n",
    "\n",
    "#1. 결측치 확인 및 처리\n",
    "df.isna()\n",
    "\n",
    "filtered = df.dropna()\n",
    "filtered\n",
    "\n",
    "#2. 색인 재설정\n",
    "filtered.reset_index(drop=True)\n",
    "\n",
    "#3. 결측치를 평균값으로 채우기\n",
    "df.fillna(df.mean())"
   ]
  },
  {
   "cell_type": "markdown",
   "metadata": {
    "id": "2z14WZlVUxkS"
   },
   "source": [
    "7.2 Transformation\n",
    "* duplicated()\n",
    "  * 데이터프레임의 중복된 행 또는 값은 True로 표시되고, 중복되지 않은 행 또는 값은 False로 표시    \n",
    "* drop_duplicates()\n",
    "  * DataFrame 또는 Series의 모든 열을 고려하여 중복된 행 또는 값을 제거\n",
    "    * subset: 중복된 행 또는 값을 제거하는 데 사용할 열의 리스트\n",
    "    * keep: 다음 값 중 하나.\n",
    "      * first: 첫 번째 중복된 행 또는 값을 유지.\n",
    "      * last: 마지막 중복된 행 또는 값을 유지\n",
    "      * False: 모든 중복된 행 또는 값을 제거.\n",
    "      * inplace: DataFrame을 변경할지 여부를 표시."
   ]
  },
  {
   "cell_type": "code",
   "execution_count": 8,
   "metadata": {
    "colab": {
     "base_uri": "https://localhost:8080/",
     "height": 277
    },
    "executionInfo": {
     "elapsed": 309,
     "status": "ok",
     "timestamp": 1714377124417,
     "user": {
      "displayName": "김유희",
      "userId": "00390714496880607784"
     },
     "user_tz": -540
    },
    "id": "Pq6COVJkVZnp",
    "outputId": "e5d5f6dd-04eb-4e66-e4cf-1ef916644c8e"
   },
   "outputs": [
    {
     "name": "stdout",
     "output_type": "stream",
     "text": [
      "    k1  k2\n",
      "0  one   1\n",
      "1  two   1\n",
      "2  one   2\n",
      "3  two   3\n",
      "4  one   3\n",
      "5  two   5\n",
      "6  two   5\n"
     ]
    },
    {
     "data": {
      "text/html": [
       "<div>\n",
       "<style scoped>\n",
       "    .dataframe tbody tr th:only-of-type {\n",
       "        vertical-align: middle;\n",
       "    }\n",
       "\n",
       "    .dataframe tbody tr th {\n",
       "        vertical-align: top;\n",
       "    }\n",
       "\n",
       "    .dataframe thead th {\n",
       "        text-align: right;\n",
       "    }\n",
       "</style>\n",
       "<table border=\"1\" class=\"dataframe\">\n",
       "  <thead>\n",
       "    <tr style=\"text-align: right;\">\n",
       "      <th></th>\n",
       "      <th>k1</th>\n",
       "      <th>k2</th>\n",
       "    </tr>\n",
       "  </thead>\n",
       "  <tbody>\n",
       "    <tr>\n",
       "      <th>0</th>\n",
       "      <td>one</td>\n",
       "      <td>1</td>\n",
       "    </tr>\n",
       "    <tr>\n",
       "      <th>1</th>\n",
       "      <td>two</td>\n",
       "      <td>1</td>\n",
       "    </tr>\n",
       "  </tbody>\n",
       "</table>\n",
       "</div>"
      ],
      "text/plain": [
       "    k1  k2\n",
       "0  one   1\n",
       "1  two   1"
      ]
     },
     "execution_count": 8,
     "metadata": {},
     "output_type": "execute_result"
    }
   ],
   "source": [
    "# ex 데이터프레임의 중복 데이터 제거하기 \n",
    "data = pd.DataFrame({\"k1\": [\"one\", \"two\"] * 3 + [\"two\"],\n",
    "                     \"k2\": [1, 1, 2, 3, 3, 5, 5]})\n",
    "\n",
    "\n",
    "print(data)\n",
    "\n",
    "#1. 중복된 데이터 확인\n",
    "data.duplicated()\n",
    "\n",
    "#2. 중복된 행 제거하기\n",
    "data.drop_duplicates()\n",
    "\n",
    "#3. \"K1\" 열을 기준으로 중복된 행을 필터링하기\n",
    "data.drop_duplicates(subset=['k1'])"
   ]
  },
  {
   "cell_type": "markdown",
   "metadata": {
    "id": "X0MqDimVZokd"
   },
   "source": [
    "## 문제: 주어진 데이터셋를 정제하고 준비하여 다음 분석을 수행하시오.\n",
    "* 데이터셋:\n",
    "\n",
    "\n",
    "![image.png](data:image/png;base64,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)\n",
    "  * 고객별 구매 금액 합계\n",
    "  * 상품별 구매 금액 합계\n",
    "  * 고객별로 가장 많이 구매한 상품"
   ]
  },
  {
   "cell_type": "code",
   "execution_count": 9,
   "metadata": {
    "colab": {
     "base_uri": "https://localhost:8080/",
     "height": 238
    },
    "executionInfo": {
     "elapsed": 297,
     "status": "ok",
     "timestamp": 1714378468892,
     "user": {
      "displayName": "김유희",
      "userId": "00390714496880607784"
     },
     "user_tz": -540
    },
    "id": "kMrFfDm1ahvU",
    "outputId": "d44fc93f-fec4-4638-8646-5ea3c8b5e4ee"
   },
   "outputs": [],
   "source": [
    "# 데이터셋\n",
    "\n",
    "data = [\n",
    "  {\"customer_id\": \"A\", \"product_id\": \"1\", \"amount\": 10000},\n",
    "  {\"customer_id\": \"B\", \"product_id\": \"2\", \"amount\": 20000},\n",
    "  {\"customer_id\": \"C\", \"product_id\": \"1\", \"amount\": 5000},\n",
    "  {\"customer_id\": \"A\", \"product_id\": \"3\", \"amount\": 30000},\n",
    "  {\"customer_id\": \"B\", \"product_id\": \"2\", \"amount\": 15000},\n",
    "  {\"customer_id\": \"B\", \"product_id\": \"2\", \"amount\": 15000}\n",
    "]\n",
    "\n"
   ]
  },
  {
   "cell_type": "code",
   "execution_count": 18,
   "metadata": {},
   "outputs": [
    {
     "data": {
      "text/html": [
       "<div>\n",
       "<style scoped>\n",
       "    .dataframe tbody tr th:only-of-type {\n",
       "        vertical-align: middle;\n",
       "    }\n",
       "\n",
       "    .dataframe tbody tr th {\n",
       "        vertical-align: top;\n",
       "    }\n",
       "\n",
       "    .dataframe thead th {\n",
       "        text-align: right;\n",
       "    }\n",
       "</style>\n",
       "<table border=\"1\" class=\"dataframe\">\n",
       "  <thead>\n",
       "    <tr style=\"text-align: right;\">\n",
       "      <th></th>\n",
       "      <th>고객ID</th>\n",
       "      <th>상품ID</th>\n",
       "      <th>구매금액</th>\n",
       "    </tr>\n",
       "  </thead>\n",
       "  <tbody>\n",
       "    <tr>\n",
       "      <th>0</th>\n",
       "      <td>A</td>\n",
       "      <td>1</td>\n",
       "      <td>10000</td>\n",
       "    </tr>\n",
       "    <tr>\n",
       "      <th>1</th>\n",
       "      <td>B</td>\n",
       "      <td>2</td>\n",
       "      <td>20000</td>\n",
       "    </tr>\n",
       "    <tr>\n",
       "      <th>2</th>\n",
       "      <td>C</td>\n",
       "      <td>1</td>\n",
       "      <td>5000</td>\n",
       "    </tr>\n",
       "    <tr>\n",
       "      <th>3</th>\n",
       "      <td>A</td>\n",
       "      <td>3</td>\n",
       "      <td>30000</td>\n",
       "    </tr>\n",
       "    <tr>\n",
       "      <th>4</th>\n",
       "      <td>B</td>\n",
       "      <td>2</td>\n",
       "      <td>15000</td>\n",
       "    </tr>\n",
       "    <tr>\n",
       "      <th>5</th>\n",
       "      <td>B</td>\n",
       "      <td>2</td>\n",
       "      <td>15000</td>\n",
       "    </tr>\n",
       "  </tbody>\n",
       "</table>\n",
       "</div>"
      ],
      "text/plain": [
       "  고객ID 상품ID   구매금액\n",
       "0    A    1  10000\n",
       "1    B    2  20000\n",
       "2    C    1   5000\n",
       "3    A    3  30000\n",
       "4    B    2  15000\n",
       "5    B    2  15000"
      ]
     },
     "execution_count": 18,
     "metadata": {},
     "output_type": "execute_result"
    }
   ],
   "source": [
    "#데이터프레임 탐색\n",
    "# 1) 데이터셋을 데이터프레임으로 변환하기\n",
    "df = pd.DataFrame(data)\n",
    "\n",
    "# 2) 데이터프레임을 첫 행부터 5번째 행까지 슬라이싱하기\n",
    "df.head()\n",
    "\n",
    "# 3)데이터프레임의 열 이름을 변경하기\n",
    "df.rename(columns = {\"customer_id\": \"고객ID\", \"product_id\": \"상품ID\", \"amount\": \"구매금액\"} , inplace= True)\n",
    "df"
   ]
  },
  {
   "cell_type": "code",
   "execution_count": 19,
   "metadata": {
    "colab": {
     "base_uri": "https://localhost:8080/",
     "height": 206
    },
    "executionInfo": {
     "elapsed": 320,
     "status": "ok",
     "timestamp": 1714378517462,
     "user": {
      "displayName": "김유희",
      "userId": "00390714496880607784"
     },
     "user_tz": -540
    },
    "id": "0bQGvcEMahzR",
    "outputId": "7ad5adbd-a9e5-4a5b-d54c-3ac1c3b257b2"
   },
   "outputs": [
    {
     "data": {
      "text/html": [
       "<div>\n",
       "<style scoped>\n",
       "    .dataframe tbody tr th:only-of-type {\n",
       "        vertical-align: middle;\n",
       "    }\n",
       "\n",
       "    .dataframe tbody tr th {\n",
       "        vertical-align: top;\n",
       "    }\n",
       "\n",
       "    .dataframe thead th {\n",
       "        text-align: right;\n",
       "    }\n",
       "</style>\n",
       "<table border=\"1\" class=\"dataframe\">\n",
       "  <thead>\n",
       "    <tr style=\"text-align: right;\">\n",
       "      <th></th>\n",
       "      <th>고객ID</th>\n",
       "      <th>상품ID</th>\n",
       "      <th>구매금액</th>\n",
       "    </tr>\n",
       "  </thead>\n",
       "  <tbody>\n",
       "    <tr>\n",
       "      <th>0</th>\n",
       "      <td>A</td>\n",
       "      <td>1</td>\n",
       "      <td>10000</td>\n",
       "    </tr>\n",
       "    <tr>\n",
       "      <th>1</th>\n",
       "      <td>B</td>\n",
       "      <td>2</td>\n",
       "      <td>20000</td>\n",
       "    </tr>\n",
       "    <tr>\n",
       "      <th>2</th>\n",
       "      <td>C</td>\n",
       "      <td>1</td>\n",
       "      <td>5000</td>\n",
       "    </tr>\n",
       "    <tr>\n",
       "      <th>3</th>\n",
       "      <td>A</td>\n",
       "      <td>3</td>\n",
       "      <td>30000</td>\n",
       "    </tr>\n",
       "    <tr>\n",
       "      <th>4</th>\n",
       "      <td>B</td>\n",
       "      <td>2</td>\n",
       "      <td>15000</td>\n",
       "    </tr>\n",
       "  </tbody>\n",
       "</table>\n",
       "</div>"
      ],
      "text/plain": [
       "  고객ID 상품ID   구매금액\n",
       "0    A    1  10000\n",
       "1    B    2  20000\n",
       "2    C    1   5000\n",
       "3    A    3  30000\n",
       "4    B    2  15000"
      ]
     },
     "execution_count": 19,
     "metadata": {},
     "output_type": "execute_result"
    }
   ],
   "source": [
    "# 데이터프레임 정제하기\n",
    "# 1). 결측치 데이터 확인하기\n",
    "df.isna()\n",
    "\n",
    "# 2). 중복 데이터 확인하기\n",
    "df.duplicated()\n",
    "\n",
    "# 3). 중복 데이터 제거\n",
    "df.drop_duplicates()"
   ]
  },
  {
   "cell_type": "code",
   "execution_count": 20,
   "metadata": {
    "colab": {
     "base_uri": "https://localhost:8080/",
     "height": 316
    },
    "executionInfo": {
     "elapsed": 300,
     "status": "ok",
     "timestamp": 1714379099897,
     "user": {
      "displayName": "김유희",
      "userId": "00390714496880607784"
     },
     "user_tz": -540
    },
    "id": "21x6xpDu6PGc",
    "outputId": "f11115e9-184a-4a63-c784-c719458afd6c",
    "scrolled": true
   },
   "outputs": [
    {
     "ename": "AttributeError",
     "evalue": "'DataFrame' object has no attribute 'reset_inedx'",
     "output_type": "error",
     "traceback": [
      "\u001b[1;31m---------------------------------------------------------------------------\u001b[0m",
      "\u001b[1;31mAttributeError\u001b[0m                            Traceback (most recent call last)",
      "Cell \u001b[1;32mIn[20], line 8\u001b[0m\n\u001b[0;32m      4\u001b[0m df\n\u001b[0;32m      7\u001b[0m \u001b[38;5;66;03m# 2) 데이터프레임의 기존의 인덱스을 색인 재설정하기\u001b[39;00m\n\u001b[1;32m----> 8\u001b[0m df \u001b[38;5;241m=\u001b[39m \u001b[43mdf\u001b[49m\u001b[38;5;241;43m.\u001b[39;49m\u001b[43mreset_inedx\u001b[49m(drop\u001b[38;5;241m=\u001b[39m\u001b[38;5;28;01mTrue\u001b[39;00m)\n\u001b[0;32m      9\u001b[0m df\n",
      "File \u001b[1;32m~\\AppData\\Local\\Programs\\Python\\Python312\\Lib\\site-packages\\pandas\\core\\generic.py:6296\u001b[0m, in \u001b[0;36mNDFrame.__getattr__\u001b[1;34m(self, name)\u001b[0m\n\u001b[0;32m   6289\u001b[0m \u001b[38;5;28;01mif\u001b[39;00m (\n\u001b[0;32m   6290\u001b[0m     name \u001b[38;5;129;01mnot\u001b[39;00m \u001b[38;5;129;01min\u001b[39;00m \u001b[38;5;28mself\u001b[39m\u001b[38;5;241m.\u001b[39m_internal_names_set\n\u001b[0;32m   6291\u001b[0m     \u001b[38;5;129;01mand\u001b[39;00m name \u001b[38;5;129;01mnot\u001b[39;00m \u001b[38;5;129;01min\u001b[39;00m \u001b[38;5;28mself\u001b[39m\u001b[38;5;241m.\u001b[39m_metadata\n\u001b[0;32m   6292\u001b[0m     \u001b[38;5;129;01mand\u001b[39;00m name \u001b[38;5;129;01mnot\u001b[39;00m \u001b[38;5;129;01min\u001b[39;00m \u001b[38;5;28mself\u001b[39m\u001b[38;5;241m.\u001b[39m_accessors\n\u001b[0;32m   6293\u001b[0m     \u001b[38;5;129;01mand\u001b[39;00m \u001b[38;5;28mself\u001b[39m\u001b[38;5;241m.\u001b[39m_info_axis\u001b[38;5;241m.\u001b[39m_can_hold_identifiers_and_holds_name(name)\n\u001b[0;32m   6294\u001b[0m ):\n\u001b[0;32m   6295\u001b[0m     \u001b[38;5;28;01mreturn\u001b[39;00m \u001b[38;5;28mself\u001b[39m[name]\n\u001b[1;32m-> 6296\u001b[0m \u001b[38;5;28;01mreturn\u001b[39;00m \u001b[38;5;28;43mobject\u001b[39;49m\u001b[38;5;241;43m.\u001b[39;49m\u001b[38;5;21;43m__getattribute__\u001b[39;49m\u001b[43m(\u001b[49m\u001b[38;5;28;43mself\u001b[39;49m\u001b[43m,\u001b[49m\u001b[43m \u001b[49m\u001b[43mname\u001b[49m\u001b[43m)\u001b[49m\n",
      "\u001b[1;31mAttributeError\u001b[0m: 'DataFrame' object has no attribute 'reset_inedx'"
     ]
    }
   ],
   "source": [
    "# 데이터프레임 정렬하기\n",
    "# 1) 고객ID 와 상품ID을 기준으로 내림차순으로 정렬하기\n",
    "df = df.sort_values(by=['고객ID','상품ID'],ascending=True)\n",
    "df\n",
    "\n",
    "\n",
    "# 2) 데이터프레임의 기존의 인덱스을 색인 재설정하기\n",
    "df = df.reset_inedx(drop=True)\n",
    "df"
   ]
  },
  {
   "cell_type": "code",
   "execution_count": 21,
   "metadata": {
    "colab": {
     "base_uri": "https://localhost:8080/"
    },
    "executionInfo": {
     "elapsed": 302,
     "status": "ok",
     "timestamp": 1714380367147,
     "user": {
      "displayName": "김유희",
      "userId": "00390714496880607784"
     },
     "user_tz": -540
    },
    "id": "HBhUfOjmah9d",
    "outputId": "46f52b5e-4992-45d6-ea02-42051c92c54a",
    "scrolled": true
   },
   "outputs": [
    {
     "name": "stdout",
     "output_type": "stream",
     "text": [
      "고객ID\n",
      "A    40000\n",
      "B    50000\n",
      "C     5000\n",
      "Name: 구매금액, dtype: int64\n"
     ]
    }
   ],
   "source": [
    "# 데이터분석하기\n",
    "# 1) 고객별 구매 금액 합계를 계산 (hint : groupby())\n",
    "total_spent_by_customer = df.groupby(\"고객ID\")[\"구매금액\"].sum()\n",
    "\n",
    "\n",
    "\n",
    "# 2) 상위 최우수 고객 2명 추출하기\n",
    "total_spent_by_customer.sort_values(ascending = False)\n",
    "print(total_spent_by_customer)"
   ]
  },
  {
   "cell_type": "code",
   "execution_count": 22,
   "metadata": {
    "colab": {
     "base_uri": "https://localhost:8080/"
    },
    "executionInfo": {
     "elapsed": 442,
     "status": "ok",
     "timestamp": 1714379670080,
     "user": {
      "displayName": "김유희",
      "userId": "00390714496880607784"
     },
     "user_tz": -540
    },
    "id": "Xjo5f1hG_MC-",
    "outputId": "8dc49cc7-388d-43fb-aed3-6ed414678fa0",
    "scrolled": true
   },
   "outputs": [
    {
     "name": "stdout",
     "output_type": "stream",
     "text": [
      "상품ID\n",
      "1    15000\n",
      "2    50000\n",
      "3    30000\n",
      "Name: 구매금액, dtype: int64\n"
     ]
    }
   ],
   "source": [
    "# 3) 상품별 구매 금액 합계를 계산\n",
    "total_spent_by_product = df.groupby(\"상품ID\")[\"구매금액\"].sum()\n",
    "print(total_spent_by_product)"
   ]
  },
  {
   "cell_type": "code",
   "execution_count": 23,
   "metadata": {
    "colab": {
     "base_uri": "https://localhost:8080/"
    },
    "executionInfo": {
     "elapsed": 287,
     "status": "ok",
     "timestamp": 1714380099045,
     "user": {
      "displayName": "김유희",
      "userId": "00390714496880607784"
     },
     "user_tz": -540
    },
    "id": "gqQ1eyc6aiBp",
    "outputId": "02b80d01-1cda-4e9e-cf2c-f672438873fe",
    "scrolled": true
   },
   "outputs": [
    {
     "name": "stdout",
     "output_type": "stream",
     "text": [
      "상품ID\n",
      "2    3\n",
      "1    2\n",
      "3    1\n",
      "Name: count, dtype: int64\n"
     ]
    },
    {
     "ename": "NameError",
     "evalue": "name 'most_popular_product' is not defined",
     "output_type": "error",
     "traceback": [
      "\u001b[1;31m---------------------------------------------------------------------------\u001b[0m",
      "\u001b[1;31mNameError\u001b[0m                                 Traceback (most recent call last)",
      "Cell \u001b[1;32mIn[23], line 9\u001b[0m\n\u001b[0;32m      7\u001b[0m \u001b[38;5;66;03m#(2)\u001b[39;00m\n\u001b[0;32m      8\u001b[0m product_counts \u001b[38;5;241m=\u001b[39m df[\u001b[38;5;124m\"\u001b[39m\u001b[38;5;124m상품ID\u001b[39m\u001b[38;5;124m\"\u001b[39m]\u001b[38;5;241m.\u001b[39mvalue_counts()\n\u001b[1;32m----> 9\u001b[0m \u001b[43mmost_popular_product\u001b[49m[product_counts \u001b[38;5;241m==\u001b[39m product_counts\u001b[38;5;241m.\u001b[39mmax()]\u001b[38;5;241m.\u001b[39midxmax()\n",
      "\u001b[1;31mNameError\u001b[0m: name 'most_popular_product' is not defined"
     ]
    }
   ],
   "source": [
    "# 4) 고객에서 가장 인기있는 상품 찾기\n",
    "product_counts = df[\"상품ID\"].value_counts()\n",
    "#(1)\n",
    "print(product_counts)\n",
    "product_counts.idxmax() ##!!!!\n",
    "\n",
    "#(2)\n",
    "product_counts = df[\"상품ID\"].value_counts()\n",
    "most_popular_product[product_counts == product_counts.max()].idxmax()"
   ]
  },
  {
   "cell_type": "code",
   "execution_count": 26,
   "metadata": {
    "colab": {
     "base_uri": "https://localhost:8080/",
     "height": 467
    },
    "executionInfo": {
     "elapsed": 370,
     "status": "ok",
     "timestamp": 1714380597650,
     "user": {
      "displayName": "김유희",
      "userId": "00390714496880607784"
     },
     "user_tz": -540
    },
    "id": "1LJXWOUDgpvp",
    "outputId": "8dd7510a-0cff-407b-f471-8eeba0b34558"
   },
   "outputs": [
    {
     "name": "stdout",
     "output_type": "stream",
     "text": [
      "고객ID\n",
      "A    20000.000000\n",
      "B    16666.666667\n",
      "C     5000.000000\n",
      "Name: 구매금액, dtype: float64\n"
     ]
    },
    {
     "data": {
      "image/png": "[encoded data removed]",
      "text/plain": [
       "<Figure size 1000x600 with 1 Axes>"
      ]
     },
     "metadata": {},
     "output_type": "display_data"
    }
   ],
   "source": [
    "# 5) 고객ID별 구매금액의 평균를 계산하고 시각화\n",
    "#1\n",
    "grouped_mean = df.groupby(\"고객ID\")[\"구매금액\"].mean()\n",
    "print(grouped_mean)\n",
    "#2\n",
    "# grouped_mean.plot.bar(color = \"green\")\n",
    "grouped_mean.plot(kind = \"line\", color = \"blue\")\n",
    "\n",
    "\n",
    "plt.xlabel(\"고객\")\n",
    "plt.ylabel(\"구매 상품의 평균\")\n",
    "plt.title(\"고객ID vs. 구매 상품 평균\")\n",
    "plt.show()\n",
    "\n"
   ]
  },
  {
   "cell_type": "code",
   "execution_count": 28,
   "metadata": {
    "colab": {
     "base_uri": "https://localhost:8080/",
     "height": 559
    },
    "executionInfo": {
     "elapsed": 907,
     "status": "ok",
     "timestamp": 1714380803079,
     "user": {
      "displayName": "김유희",
      "userId": "00390714496880607784"
     },
     "user_tz": -540
    },
    "id": "McgTVr93iFCr",
    "outputId": "0900f3e4-7b04-4c91-e7ae-87bb573f5a10"
   },
   "outputs": [
    {
     "name": "stdout",
     "output_type": "stream",
     "text": [
      "고객ID  상품ID\n",
      "A     1       10000\n",
      "      3       30000\n",
      "B     2       50000\n",
      "C     1        5000\n",
      "Name: 구매금액, dtype: int64\n"
     ]
    },
    {
     "data": {
      "image/png": "[encoded data removed]",
      "text/plain": [
       "<Figure size 1000x600 with 1 Axes>"
      ]
     },
     "metadata": {},
     "output_type": "display_data"
    }
   ],
   "source": [
    "# 6) 고객ID와 상품ID를 기준으로 그룹화하여 구매금액의 합계를 계산하고 시각화\n",
    "grouped_df = df.groupby([\"고객ID\",\"상품ID\"])[\"구매금액\"].sum()\n",
    "print(grouped_df)\n",
    "# grouped_df.index\n",
    "\n",
    "\n",
    "grouped_mean.plot(kind = \"bar\", color = \"blue\")\n",
    "plt.xlabel(\"(고객ID, 상품ID)\")\n",
    "plt.ylabel(\"구매 상품의 평균\")\n",
    "plt.title(\"고객ID, 상품ID vs. 구매 상품 합산\")\n",
    "plt.show()"
   ]
  },
  {
   "cell_type": "markdown",
   "metadata": {
    "id": "5QgHSMVCWAvH"
   },
   "source": [
    "# 8장 다중색인(mutiIndex)\n",
    "* 다중색인(multi-index)은 데이터프레임이나 시리즈의 인덱스를 여러 열로 구성하는 것\n",
    "* 다중색인 사용\n",
    "  * 데이터를 여러 기준으로 그룹화\n",
    "  * 데이터를 여러 기준으로 검색\n"
   ]
  },
  {
   "cell_type": "code",
   "execution_count": 14,
   "metadata": {
    "colab": {
     "base_uri": "https://localhost:8080/",
     "height": 347
    },
    "executionInfo": {
     "elapsed": 7,
     "status": "ok",
     "timestamp": 1714393052229,
     "user": {
      "displayName": "김유희",
      "userId": "00390714496880607784"
     },
     "user_tz": -540
    },
    "id": "JrMk17ZIqIkI",
    "outputId": "4971979e-9652-4d7c-80a2-4ea8a1a92d6c"
   },
   "outputs": [
    {
     "name": "stdout",
     "output_type": "stream",
     "text": [
      "MultiIndex([('X', 1),\n",
      "            ('X', 2),\n",
      "            ('Y', 1)],\n",
      "           )\n"
     ]
    },
    {
     "data": {
      "text/html": [
       "<div>\n",
       "<style scoped>\n",
       "    .dataframe tbody tr th:only-of-type {\n",
       "        vertical-align: middle;\n",
       "    }\n",
       "\n",
       "    .dataframe tbody tr th {\n",
       "        vertical-align: top;\n",
       "    }\n",
       "\n",
       "    .dataframe thead th {\n",
       "        text-align: right;\n",
       "    }\n",
       "</style>\n",
       "<table border=\"1\" class=\"dataframe\">\n",
       "  <thead>\n",
       "    <tr style=\"text-align: right;\">\n",
       "      <th></th>\n",
       "      <th>A</th>\n",
       "      <th>B</th>\n",
       "    </tr>\n",
       "  </thead>\n",
       "  <tbody>\n",
       "    <tr>\n",
       "      <th>X</th>\n",
       "      <td>1.5</td>\n",
       "      <td>4.5</td>\n",
       "    </tr>\n",
       "    <tr>\n",
       "      <th>Y</th>\n",
       "      <td>3.0</td>\n",
       "      <td>6.0</td>\n",
       "    </tr>\n",
       "  </tbody>\n",
       "</table>\n",
       "</div>"
      ],
      "text/plain": [
       "     A    B\n",
       "X  1.5  4.5\n",
       "Y  3.0  6.0"
      ]
     },
     "execution_count": 14,
     "metadata": {},
     "output_type": "execute_result"
    }
   ],
   "source": [
    "# ex\n",
    "# 1. 다중색인 생성\n",
    "\n",
    "# 1) 데이터프레임 생성\n",
    "df = pd.DataFrame({'A': [1, 2, 3], 'B': [4, 5, 6]})\n",
    "\n",
    "\n",
    "# 2) 다중 색인으로 사용할 튜플 리스트\n",
    "index = [('X', 1), ('X', 2), ('Y', 1)]\n",
    "\n",
    "# 3) 다중색인 설정\n",
    "df.index = pd.MultiIndex.from_tuples(index)\n",
    "\n",
    "print(df.index)\n",
    "\n",
    "#2.다중색인 사용\n",
    "#1) 데이터프레임을 인덱스의 첫 번째 레벨로 그룹화하기\n",
    "grouped = df.groupby(level = 0)\n",
    "\n",
    "# 2)각 그룹의 평균을 구하기\n",
    "grouped.mean()"
   ]
  },
  {
   "cell_type": "code",
   "execution_count": 15,
   "metadata": {
    "colab": {
     "base_uri": "https://localhost:8080/",
     "height": 270
    },
    "executionInfo": {
     "elapsed": 5,
     "status": "ok",
     "timestamp": 1714392754779,
     "user": {
      "displayName": "김유희",
      "userId": "00390714496880607784"
     },
     "user_tz": -540
    },
    "id": "-87ZUVI3WfKn",
    "outputId": "4db061a0-1452-40b8-a2d5-c0a2975126db"
   },
   "outputs": [
    {
     "data": {
      "text/html": [
       "<div>\n",
       "<style scoped>\n",
       "    .dataframe tbody tr th:only-of-type {\n",
       "        vertical-align: middle;\n",
       "    }\n",
       "\n",
       "    .dataframe tbody tr th {\n",
       "        vertical-align: top;\n",
       "    }\n",
       "\n",
       "    .dataframe thead th {\n",
       "        text-align: right;\n",
       "    }\n",
       "</style>\n",
       "<table border=\"1\" class=\"dataframe\">\n",
       "  <thead>\n",
       "    <tr style=\"text-align: right;\">\n",
       "      <th></th>\n",
       "      <th>data</th>\n",
       "    </tr>\n",
       "    <tr>\n",
       "      <th>index1</th>\n",
       "      <th></th>\n",
       "    </tr>\n",
       "  </thead>\n",
       "  <tbody>\n",
       "    <tr>\n",
       "      <th>A</th>\n",
       "      <td>1.5</td>\n",
       "    </tr>\n",
       "    <tr>\n",
       "      <th>B</th>\n",
       "      <td>3.5</td>\n",
       "    </tr>\n",
       "  </tbody>\n",
       "</table>\n",
       "</div>"
      ],
      "text/plain": [
       "        data\n",
       "index1      \n",
       "A        1.5\n",
       "B        3.5"
      ]
     },
     "execution_count": 15,
     "metadata": {},
     "output_type": "execute_result"
    }
   ],
   "source": [
    "# ex\n",
    "# 1. 다중 색인 생성(2)\n",
    "df = pd.DataFrame({\n",
    "    \"data\": [1, 2, 3, 4],\n",
    "    \"index1\": [\"A\", \"A\", \"B\", \"B\"],\n",
    "    \"index2\": [1, 2, 1, 2],\n",
    "})\n",
    "\n",
    "df = df.set_index([\"index1\", \"index2\"])\n",
    "\n",
    "\n",
    "# 2.다중 색인 사용\n",
    "grouped = df.groupby(level=0).mean()\n",
    "grouped"
   ]
  },
  {
   "cell_type": "code",
   "execution_count": 16,
   "metadata": {
    "colab": {
     "base_uri": "https://localhost:8080/",
     "height": 143
    },
    "executionInfo": {
     "elapsed": 451,
     "status": "ok",
     "timestamp": 1714392967685,
     "user": {
      "displayName": "김유희",
      "userId": "00390714496880607784"
     },
     "user_tz": -540
    },
    "id": "jtHV3MCVX8cg",
    "outputId": "4453cb47-74df-44ea-8f6d-5f22c61623ad"
   },
   "outputs": [
    {
     "data": {
      "text/html": [
       "<div>\n",
       "<style scoped>\n",
       "    .dataframe tbody tr th:only-of-type {\n",
       "        vertical-align: middle;\n",
       "    }\n",
       "\n",
       "    .dataframe tbody tr th {\n",
       "        vertical-align: top;\n",
       "    }\n",
       "\n",
       "    .dataframe thead th {\n",
       "        text-align: right;\n",
       "    }\n",
       "</style>\n",
       "<table border=\"1\" class=\"dataframe\">\n",
       "  <thead>\n",
       "    <tr style=\"text-align: right;\">\n",
       "      <th></th>\n",
       "      <th></th>\n",
       "      <th>data</th>\n",
       "    </tr>\n",
       "    <tr>\n",
       "      <th>index1</th>\n",
       "      <th>index2</th>\n",
       "      <th></th>\n",
       "    </tr>\n",
       "  </thead>\n",
       "  <tbody>\n",
       "    <tr>\n",
       "      <th>A</th>\n",
       "      <th>1</th>\n",
       "      <td>1</td>\n",
       "    </tr>\n",
       "    <tr>\n",
       "      <th>B</th>\n",
       "      <th>1</th>\n",
       "      <td>3</td>\n",
       "    </tr>\n",
       "  </tbody>\n",
       "</table>\n",
       "</div>"
      ],
      "text/plain": [
       "               data\n",
       "index1 index2      \n",
       "A      1          1\n",
       "B      1          3"
      ]
     },
     "execution_count": 16,
     "metadata": {},
     "output_type": "execute_result"
    }
   ],
   "source": [
    "# 데이터셋 슬라이싱 :\n",
    "\n",
    "df.loc[\"A\", 1] # 레벨 1에서 \"A\" 선택, 레벨 2에서 1 선택\n",
    "\n",
    "df.loc[\"B\", :] # 레벨 1에서 \"B\" 선택, 레벨 2에서 모든 값 선택\n",
    "\n",
    "df.loc[[('A', 1),('B',1)]] # 레벨 1에서 \"A\"와 \"B\" 선택, 레벨 2에서 1 선택"
   ]
  },
  {
   "cell_type": "markdown",
   "metadata": {
    "id": "ibVmEsaTdF2t"
   },
   "source": [
    "### [문제]: 다음 DataFrame에서 고객ID와 상품ID를 기준으로 다중색인을 만들고, 각 그룹의 구매금액의 합계를 계산하세요."
   ]
  },
  {
   "cell_type": "code",
   "execution_count": 17,
   "metadata": {
    "colab": {
     "base_uri": "https://localhost:8080/"
    },
    "executionInfo": {
     "elapsed": 425,
     "status": "ok",
     "timestamp": 1714394152278,
     "user": {
      "displayName": "김유희",
      "userId": "00390714496880607784"
     },
     "user_tz": -540
    },
    "id": "xErYe0yJczcm",
    "outputId": "f834db52-9735-46cf-80d1-b5ac5351d96b"
   },
   "outputs": [],
   "source": [
    "# 데이터셋\n",
    "data = [\n",
    "  {\"고객ID\": \"A\", \"상품ID\": \"1\", \"구매금액\": 10000},\n",
    "  {\"고객ID\": \"B\", \"상품ID\": \"2\", \"구매금액\": 20000},\n",
    "  {\"고객ID\": \"C\", \"상품ID\": \"1\", \"구매금액\": 5000},\n",
    "  {\"고객ID\": \"A\", \"상품ID\": \"3\", \"구매금액\": 30000},\n",
    "  {\"고객ID\": \"B\", \"상품ID\": \"2\", \"구매금액\": 15000},\n",
    "  {\"고객ID\": \"B\", \"상품ID\": \"2\", \"구매금액\": 15000}\n",
    "]\n",
    "\n",
    "# 1. 데이터프레임 생성\n",
    "\n",
    "\n",
    "# 2. 고객ID와 상품ID을 기준으로 다중색인을 생성하여 주어진 데이터프레임을 그룹하기\n",
    "\n",
    "\n",
    "#3. 데이터프레임의 다중색인을 출력하기\n"
   ]
  },
  {
   "cell_type": "code",
   "execution_count": null,
   "metadata": {
    "colab": {
     "base_uri": "https://localhost:8080/"
    },
    "executionInfo": {
     "elapsed": 1176,
     "status": "ok",
     "timestamp": 1714394286995,
     "user": {
      "displayName": "김유희",
      "userId": "00390714496880607784"
     },
     "user_tz": -540
    },
    "id": "lgteP_SVebyG",
    "outputId": "e183c837-e2f9-4f26-d1db-0d36385d7514"
   },
   "outputs": [],
   "source": [
    "# 4. 고객을 기준으로 묶어서 구매금액의 합을 계산하시오.\n",
    "\n",
    "\n",
    "# 5. 상품을 기준으로 묶어서 구매금액의 합을 계산하시오.\n",
    "\n",
    "# 6. 결과를 출력하시오.\n"
   ]
  },
  {
   "cell_type": "markdown",
   "metadata": {
    "id": "2w22HyH4mFv2"
   },
   "source": [
    "# 9.2장. plotting with pandas and seaborn\n"
   ]
  },
  {
   "cell_type": "code",
   "execution_count": 18,
   "metadata": {
    "id": "hkNeOOasmM_1"
   },
   "outputs": [],
   "source": [
    "import matplotlib.pyplot as plt\n",
    "import seaborn as sns\n",
    "import  numpy as np"
   ]
  },
  {
   "cell_type": "markdown",
   "metadata": {
    "id": "WjWhTFGG7qSm"
   },
   "source": [
    "* Bar Plots\n"
   ]
  },
  {
   "cell_type": "code",
   "execution_count": 22,
   "metadata": {
    "colab": {
     "base_uri": "https://localhost:8080/",
     "height": 1000
    },
    "executionInfo": {
     "elapsed": 1305,
     "status": "ok",
     "timestamp": 1714395612504,
     "user": {
      "displayName": "김유희",
      "userId": "00390714496880607784"
     },
     "user_tz": -540
    },
    "id": "bVdw0mBk9dSn",
    "outputId": "d54f0152-83ed-49db-9d47-32b523198fce"
   },
   "outputs": [
    {
     "name": "stdout",
     "output_type": "stream",
     "text": [
      "              A         B         C         D\n",
      "one    0.252493  0.720862  0.367439  0.498648\n",
      "two    0.226575  0.353566  0.650852  0.312933\n",
      "three  0.768735  0.781837  0.852409  0.949906\n",
      "four   0.107323  0.910725  0.336055  0.826380\n",
      "five   0.898101  0.042715  0.195795  0.294501\n",
      "six    0.627000  0.086223  0.142945  0.515827\n"
     ]
    },
    {
     "data": {
      "text/plain": [
       "<Axes: >"
      ]
     },
     "execution_count": 22,
     "metadata": {},
     "output_type": "execute_result"
    },
    {
     "data": {
      "image/png": "[encoded data removed]",
      "text/plain": [
       "<Figure size 1000x600 with 1 Axes>"
      ]
     },
     "metadata": {},
     "output_type": "display_data"
    }
   ],
   "source": [
    "# ex\n",
    "#1. DataSet\n",
    "df = pd.DataFrame(np.random.uniform(size=(6,4)),\n",
    "                  index = [\"one\", \"two\", \"three\", \"four\", \"five\", \"six\"],\n",
    "                  columns = [\"A\",\"B\", \"C\", \"D\"])\n",
    "print(df)\n",
    "\n",
    "df.plot.bar()"
   ]
  },
  {
   "cell_type": "code",
   "execution_count": 23,
   "metadata": {},
   "outputs": [
    {
     "data": {
      "image/png": "[encoded data removed]",
      "text/plain": [
       "<Figure size 1000x600 with 1 Axes>"
      ]
     },
     "metadata": {},
     "output_type": "display_data"
    }
   ],
   "source": [
    "# ex\n",
    "# 1. Dataset\n",
    "# 가상의 데이터 (날짜, 파티 규모, 데이터 포인트 수)\n",
    "data = {\n",
    "    'Date' : ['2024-04-27', '2024-04-27', '2024-04-27', '2024-04-27',\n",
    "              '2024-04-28', '2024-04-28', '2024-04-28', '2024-04-28',\n",
    "              '2024-04-29', '2024-04-29', '2024-04-29', '2024-04-29'],\n",
    "    'Party Size' : ['1', '2', '3', '4', '1', '2', '3', '4', '1', '2', '3', '4'],\n",
    "    'Data Points' : [20, 15, 10, 5, 18, 12, 8, 6, 25, 20, 15, 10]\n",
    "}\n",
    "\n",
    "# 2. DataFrame 생성\n",
    "df = pd.DataFrame(data)\n",
    "# 3. 데이터프레임을 피벗하여 각 파티 규모별 데이터를 준비\n",
    "pivot_df = df.pivot(index = 'Date', columns = 'Party Size', values = 'Data Points')\n",
    "# 막대 그리프 그리기\n",
    "pivot_df.plot.bar(stacked = True, figsize = (10, 6))\n",
    "\n",
    "# 그래프의 속성 추가\n",
    "plt.xlabel(\"Date\")\n",
    "plt.ylabel('Date Points')\n",
    "plt.title(\"Date vs. Party Size vs. Data poins\")\n",
    "plt.legend(title = 'Party Size')\n",
    "plt.show()"
   ]
  },
  {
   "cell_type": "markdown",
   "metadata": {
    "id": "lvNPu1V0Abz-"
   },
   "source": [
    "## [예제]\n",
    "* 'day'별에 따라 'size' 인원별 팁의 백분율을 보여주는 쌓인 막대 그래프를 그리기"
   ]
  },
  {
   "cell_type": "code",
   "execution_count": 24,
   "metadata": {
    "colab": {
     "base_uri": "https://localhost:8080/",
     "height": 1000
    },
    "executionInfo": {
     "elapsed": 1414,
     "status": "ok",
     "timestamp": 1714396931286,
     "user": {
      "displayName": "김유희",
      "userId": "00390714496880607784"
     },
     "user_tz": -540
    },
    "id": "5AL0-YXLB99u",
    "outputId": "e008c664-d951-4933-8975-11fc875cf47e"
   },
   "outputs": [
    {
     "name": "stdout",
     "output_type": "stream",
     "text": [
      "size   2   3   4  5\n",
      "day                \n",
      "Thur  48   4   5  1\n",
      "Fri   16   1   1  0\n",
      "Sat   53  18  13  1\n",
      "Sun   39  15  18  3\n",
      "\n",
      "size         2         3         4         5\n",
      "day                                         \n",
      "Thur  0.827586  0.068966  0.086207  0.017241\n",
      "Fri   0.888889  0.055556  0.055556  0.000000\n",
      "Sat   0.623529  0.211765  0.152941  0.011765\n",
      "Sun   0.520000  0.200000  0.240000  0.040000\n"
     ]
    },
    {
     "data": {
      "text/plain": [
       "<Axes: xlabel='day'>"
      ]
     },
     "execution_count": 24,
     "metadata": {},
     "output_type": "execute_result"
    },
    {
     "data": {
      "image/png": "[encoded data removed]",
      "text/plain": [
       "<Figure size 1000x600 with 1 Axes>"
      ]
     },
     "metadata": {},
     "output_type": "display_data"
    }
   ],
   "source": [
    "# 1. Dataset\n",
    "tips = pd.read_csv('examples/tips.csv')\n",
    "\n",
    "# 2. 빈도수 표 만들기\n",
    "party_counts = pd.crosstab(tips[\"day\"], tips['size'])\n",
    "\n",
    "\n",
    "#3. 인덱스 재설정\n",
    "party_counts = party_counts.reindex(index = [\"Thur\",\"Fri\",\"Sat\",\"Sun\"])\n",
    "\n",
    "\n",
    "## 3. 필터링\n",
    "party_counts = party_counts.loc[:,2:5]\n",
    "print(party_counts)\n",
    "print()\n",
    "\n",
    "# 4. 데이터 정규화 또는 비율로 계산\n",
    "party_pcts = party_counts.div(party_counts.sum(axis = \"columns\"),\n",
    "                              axis = \"index\")\n",
    "print(party_pcts)\n",
    "\n",
    "# 5. 막대그래프로 그리기\n",
    "party_pcts.plot.bar(stacked=True)"
   ]
  },
  {
   "cell_type": "code",
   "execution_count": 26,
   "metadata": {
    "colab": {
     "base_uri": "https://localhost:8080/",
     "height": 206
    },
    "executionInfo": {
     "elapsed": 275,
     "status": "ok",
     "timestamp": 1714365270151,
     "user": {
      "displayName": "김유희",
      "userId": "00390714496880607784"
     },
     "user_tz": -540
    },
    "id": "VyPtJqxUFbeg",
    "outputId": "67849ea9-8b91-4334-8755-75eee7c77fdf"
   },
   "outputs": [
    {
     "data": {
      "text/plain": [
       "<Axes: xlabel='tip_pct', ylabel='day'>"
      ]
     },
     "execution_count": 26,
     "metadata": {},
     "output_type": "execute_result"
    },
    {
     "data": {
      "image/png": "[encoded data removed]",
      "text/plain": [
       "<Figure size 1000x600 with 1 Axes>"
      ]
     },
     "metadata": {},
     "output_type": "display_data"
    }
   ],
   "source": [
    "import seaborn as sns\n",
    "tips[\"tip_pct\"] = tips['tip'] / (tips['total_bill'] - tips['tip'])\n",
    "tips.head()\n",
    "\n",
    "sns.barplot(x = \"tip_pct\", y='day', data=tips, orient='h', hue='time')"
   ]
  },
  {
   "cell_type": "markdown",
   "metadata": {
    "id": "J3fdZWxsn3F0"
   },
   "source": [
    "# # 빅데이터 분석에 필요한 pandas의 데이터프레임의 핵심 기능\n",
    "  * 데이터프레임 생성: pd.DataFrame() 함수를 사용하여 데이터프레임을 생성\n",
    "  * 데이터프레임 인덱싱: loc 및 iloc 인덱서를 사용하여 데이터프레임의 특정 행과 열을 선택\n",
    "  * 데이터프레임 슬라이싱: 슬라이싱 연산자를 사용하여 데이터프레임의 부분을 선택\n",
    "  * 데이터프레임 필터링: 불리언 마스크를 사용하여 데이터프레임의 행과 열을 필터링\n",
    "  * 데이터프레임 정렬: sort_values() 메서드를 사용하여 데이터프레임을 열 또는 인덱스별로 정렬\n",
    "  * 데이터프레임 집계: groupby() 메서드를 사용하여 데이터프레임을 그룹화하고 집계 연산을 수행\n",
    "  * 데이터프레임 결측치 처리: fillna() 메서드를 사용하여 데이터프레임의 결측치를 채우기\n",
    "  * 데이터프레임 결합: merge() 메서드나 concat() 메서드를 사용하여 여러 데이터프레임을 결합하기"
   ]
  },
  {
   "cell_type": "code",
   "execution_count": null,
   "metadata": {
    "id": "qFhrWUDcXEfl"
   },
   "outputs": [],
   "source": []
  },
  {
   "cell_type": "markdown",
   "metadata": {
    "id": "RJGX2PLxoqDf"
   },
   "source": [
    "## [문제] 다음 주어진 데이터셋에서 다음 작업을 수행하시오.\n",
    "  * 나이가 30세 이상인 사람들의 이름을 출력하기\n",
    "  * 도시가 'New York' 또는 'Los Angeles'인 사람들의 나이의 평균을 출력하기\n",
    "  * 이름이 'Bob'인 사람의 도시를 출력하기"
   ]
  },
  {
   "cell_type": "code",
   "execution_count": 27,
   "metadata": {
    "colab": {
     "base_uri": "https://localhost:8080/",
     "height": 206
    },
    "executionInfo": {
     "elapsed": 1244,
     "status": "ok",
     "timestamp": 1714216710395,
     "user": {
      "displayName": "김유희",
      "userId": "00390714496880607784"
     },
     "user_tz": -540
    },
    "id": "5WMeGZ2gohxG",
    "outputId": "588503e6-a3ee-4bcf-9b6d-4f668d4b2208"
   },
   "outputs": [],
   "source": [
    "# dataset\n",
    "data = {\n",
    "    'Name': ['John', 'Mary', 'Bob', 'Alice', 'Tom'],\n",
    "    'Age': [20, 25, 30, 35, 40],\n",
    "    'City': ['New York', 'Los Angeles', 'Chicago', 'Houston', 'Dallas']\n",
    "}"
   ]
  },
  {
   "cell_type": "code",
   "execution_count": 28,
   "metadata": {
    "colab": {
     "base_uri": "https://localhost:8080/"
    },
    "executionInfo": {
     "elapsed": 760,
     "status": "ok",
     "timestamp": 1714216715121,
     "user": {
      "displayName": "김유희",
      "userId": "00390714496880607784"
     },
     "user_tz": -540
    },
    "id": "13aNp6hgog2P",
    "outputId": "e2642597-eb16-49e9-8199-97f832a15cd0"
   },
   "outputs": [],
   "source": [
    "# 1. 나이가 30세 이상인 사람들의 이름 출력하기\n",
    "\n"
   ]
  },
  {
   "cell_type": "code",
   "execution_count": 29,
   "metadata": {
    "colab": {
     "base_uri": "https://localhost:8080/"
    },
    "executionInfo": {
     "elapsed": 454,
     "status": "ok",
     "timestamp": 1714216717746,
     "user": {
      "displayName": "김유희",
      "userId": "00390714496880607784"
     },
     "user_tz": -540
    },
    "id": "SUw9mgpWpNPX",
    "outputId": "435bd0b0-4e4f-4146-bfa5-d01875e55978"
   },
   "outputs": [],
   "source": [
    "# 2. 도시가 'New York' 또는 'Los Angeles'인 사람들의 나이의 평균을 출력하기\n",
    "\n"
   ]
  },
  {
   "cell_type": "code",
   "execution_count": 30,
   "metadata": {
    "colab": {
     "base_uri": "https://localhost:8080/",
     "height": 35
    },
    "executionInfo": {
     "elapsed": 1033,
     "status": "ok",
     "timestamp": 1714216722177,
     "user": {
      "displayName": "김유희",
      "userId": "00390714496880607784"
     },
     "user_tz": -540
    },
    "id": "ckQ4mStUqsM1",
    "outputId": "50381d93-eff8-44db-9d76-e11228b9f6a4"
   },
   "outputs": [],
   "source": [
    "# 3. 이름이 'Bob'인 사람의 도시를 출력하기\n",
    "\n"
   ]
  },
  {
   "cell_type": "markdown",
   "metadata": {
    "id": "C1f_tdZOu3dd"
   },
   "source": [
    "# 10장 데이터 집계와 그룹 연산\n",
    "* 하나 이상의 키(함수, 배열, 데이터프레임의 열 이름)를 이용해서 판다스 객체를 여러 조각으로 나누는 방법\n",
    "* 합계, 평균, 표준편차, 사용자 정의 함수 같은 그룹 요약 통계를 계산하는 방법\n",
    "* 정규화, 선형 회귀, 순위 또는 부분집합 선택 같은 그룹 내 변형이나 다른 조작을 적용하는 방법\n",
    "\n",
    "\n"
   ]
  },
  {
   "cell_type": "markdown",
   "metadata": {
    "id": "guSWy42UIs1J"
   },
   "source": [
    "* groupby() 연산에 대한 원리\n",
    "    * 분리-적용-결합(split-apply-combine)\n",
    "    * Aggregations refer to any data transformation that produces scalar values from arrays. \n",
    "\n",
    "![image.png](data:image/png;base64,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)"
   ]
  },
  {
   "cell_type": "markdown",
   "metadata": {
    "id": "0FZ9JH00Q39J"
   },
   "source": [
    "### [예제] 주어진 데이터를 key1으로 묶고 각 그룹에서 data1의 평균을 구하기"
   ]
  },
  {
   "cell_type": "code",
   "execution_count": 31,
   "metadata": {
    "colab": {
     "base_uri": "https://localhost:8080/",
     "height": 269
    },
    "executionInfo": {
     "elapsed": 439,
     "status": "ok",
     "timestamp": 1714397340980,
     "user": {
      "displayName": "김유희",
      "userId": "00390714496880607784"
     },
     "user_tz": -540
    },
    "id": "Ml6Qj6ufh7Jy",
    "outputId": "85d80c31-acb4-45ca-d49e-5fe600fc1616"
   },
   "outputs": [
    {
     "data": {
      "text/html": [
       "<div>\n",
       "<style scoped>\n",
       "    .dataframe tbody tr th:only-of-type {\n",
       "        vertical-align: middle;\n",
       "    }\n",
       "\n",
       "    .dataframe tbody tr th {\n",
       "        vertical-align: top;\n",
       "    }\n",
       "\n",
       "    .dataframe thead th {\n",
       "        text-align: right;\n",
       "    }\n",
       "</style>\n",
       "<table border=\"1\" class=\"dataframe\">\n",
       "  <thead>\n",
       "    <tr style=\"text-align: right;\">\n",
       "      <th></th>\n",
       "      <th>key1</th>\n",
       "      <th>key2</th>\n",
       "      <th>data1</th>\n",
       "      <th>data2</th>\n",
       "    </tr>\n",
       "  </thead>\n",
       "  <tbody>\n",
       "    <tr>\n",
       "      <th>0</th>\n",
       "      <td>a</td>\n",
       "      <td>1</td>\n",
       "      <td>0.816707</td>\n",
       "      <td>0.912414</td>\n",
       "    </tr>\n",
       "    <tr>\n",
       "      <th>1</th>\n",
       "      <td>a</td>\n",
       "      <td>2</td>\n",
       "      <td>0.433610</td>\n",
       "      <td>0.188211</td>\n",
       "    </tr>\n",
       "    <tr>\n",
       "      <th>2</th>\n",
       "      <td>None</td>\n",
       "      <td>1</td>\n",
       "      <td>1.010737</td>\n",
       "      <td>2.169461</td>\n",
       "    </tr>\n",
       "    <tr>\n",
       "      <th>3</th>\n",
       "      <td>b</td>\n",
       "      <td>2</td>\n",
       "      <td>1.824875</td>\n",
       "      <td>-0.114928</td>\n",
       "    </tr>\n",
       "    <tr>\n",
       "      <th>4</th>\n",
       "      <td>b</td>\n",
       "      <td>1</td>\n",
       "      <td>-0.997518</td>\n",
       "      <td>2.003697</td>\n",
       "    </tr>\n",
       "    <tr>\n",
       "      <th>5</th>\n",
       "      <td>a</td>\n",
       "      <td>&lt;NA&gt;</td>\n",
       "      <td>0.850591</td>\n",
       "      <td>0.029610</td>\n",
       "    </tr>\n",
       "    <tr>\n",
       "      <th>6</th>\n",
       "      <td>None</td>\n",
       "      <td>1</td>\n",
       "      <td>-0.131578</td>\n",
       "      <td>0.795253</td>\n",
       "    </tr>\n",
       "  </tbody>\n",
       "</table>\n",
       "</div>"
      ],
      "text/plain": [
       "   key1  key2     data1     data2\n",
       "0     a     1  0.816707  0.912414\n",
       "1     a     2  0.433610  0.188211\n",
       "2  None     1  1.010737  2.169461\n",
       "3     b     2  1.824875 -0.114928\n",
       "4     b     1 -0.997518  2.003697\n",
       "5     a  <NA>  0.850591  0.029610\n",
       "6  None     1 -0.131578  0.795253"
      ]
     },
     "execution_count": 31,
     "metadata": {},
     "output_type": "execute_result"
    }
   ],
   "source": [
    "# 데이터셋\n",
    "dataset = {\"key1\" : [\"a\", \"a\", None, \"b\", \"b\", \"a\", None],\n",
    "                   \"key2\" : pd.Series([1, 2, 1, 2, 1, None, 1],\n",
    "                                      dtype=\"Int64\"),\n",
    "                   \"data1\" : np.random.standard_normal(7),\n",
    "                   \"data2\" : np.random.standard_normal(7)}\n",
    "df = pd.DataFrame(dataset)\n",
    "df"
   ]
  },
  {
   "cell_type": "code",
   "execution_count": 32,
   "metadata": {
    "colab": {
     "base_uri": "https://localhost:8080/",
     "height": 206
    },
    "executionInfo": {
     "elapsed": 462,
     "status": "ok",
     "timestamp": 1714397676389,
     "user": {
      "displayName": "김유희",
      "userId": "00390714496880607784"
     },
     "user_tz": -540
    },
    "id": "a_agyXVah7J2",
    "outputId": "e14c366a-6041-4ba7-befa-a4d9f279a2cf"
   },
   "outputs": [
    {
     "data": {
      "text/html": [
       "<div>\n",
       "<style scoped>\n",
       "    .dataframe tbody tr th:only-of-type {\n",
       "        vertical-align: middle;\n",
       "    }\n",
       "\n",
       "    .dataframe tbody tr th {\n",
       "        vertical-align: top;\n",
       "    }\n",
       "\n",
       "    .dataframe thead th {\n",
       "        text-align: right;\n",
       "    }\n",
       "</style>\n",
       "<table border=\"1\" class=\"dataframe\">\n",
       "  <thead>\n",
       "    <tr style=\"text-align: right;\">\n",
       "      <th></th>\n",
       "      <th></th>\n",
       "      <th>data1</th>\n",
       "      <th>data2</th>\n",
       "    </tr>\n",
       "    <tr>\n",
       "      <th>key1</th>\n",
       "      <th>key2</th>\n",
       "      <th></th>\n",
       "      <th></th>\n",
       "    </tr>\n",
       "  </thead>\n",
       "  <tbody>\n",
       "    <tr>\n",
       "      <th rowspan=\"2\" valign=\"top\">a</th>\n",
       "      <th>1</th>\n",
       "      <td>0.816707</td>\n",
       "      <td>0.912414</td>\n",
       "    </tr>\n",
       "    <tr>\n",
       "      <th>2</th>\n",
       "      <td>0.433610</td>\n",
       "      <td>0.188211</td>\n",
       "    </tr>\n",
       "    <tr>\n",
       "      <th rowspan=\"2\" valign=\"top\">b</th>\n",
       "      <th>1</th>\n",
       "      <td>-0.997518</td>\n",
       "      <td>2.003697</td>\n",
       "    </tr>\n",
       "    <tr>\n",
       "      <th>2</th>\n",
       "      <td>1.824875</td>\n",
       "      <td>-0.114928</td>\n",
       "    </tr>\n",
       "  </tbody>\n",
       "</table>\n",
       "</div>"
      ],
      "text/plain": [
       "              data1     data2\n",
       "key1 key2                    \n",
       "a    1     0.816707  0.912414\n",
       "     2     0.433610  0.188211\n",
       "b    1    -0.997518  2.003697\n",
       "     2     1.824875 -0.114928"
      ]
     },
     "execution_count": 32,
     "metadata": {},
     "output_type": "execute_result"
    }
   ],
   "source": [
    "# mean() - 주어진 데이터을 컬럼을 사용하여 각 그룹으로 묶어 평균 집계 \n",
    "## 그룹 색인에서 누락된 값은 기본적으로 결과에서 제외됨\n",
    "\n",
    "df.groupby(\"key1\").mean()\n",
    "\n",
    "df.groupby(\"key2\").mean(numeric_only=True) # key1열이 결과에서 빠짐: df['key1']은 숫자 데이터가 아님\n",
    "\n",
    "df.groupby([\"key1\", \"key2\"]).mean()\n",
    "\n"
   ]
  },
  {
   "cell_type": "code",
   "execution_count": 33,
   "metadata": {
    "colab": {
     "base_uri": "https://localhost:8080/"
    },
    "executionInfo": {
     "elapsed": 434,
     "status": "ok",
     "timestamp": 1714397920071,
     "user": {
      "displayName": "김유희",
      "userId": "00390714496880607784"
     },
     "user_tz": -540
    },
    "id": "plrM7buqh7J2",
    "outputId": "1a742758-8be3-4423-9711-d86c3b0c07dd"
   },
   "outputs": [
    {
     "data": {
      "text/plain": [
       "key1  key2\n",
       "a     1       1\n",
       "      2       1\n",
       "      <NA>    1\n",
       "b     1       1\n",
       "      2       1\n",
       "NaN   1       2\n",
       "dtype: int64"
      ]
     },
     "execution_count": 33,
     "metadata": {},
     "output_type": "execute_result"
    }
   ],
   "source": [
    "# size() 함수 - 주어진 데이터를 그룹 색인으로 묶고 각 그룹의 크기를 집계하기\n",
    "df.groupby([\"key1\", \"key2\"]).size()\n",
    "\n",
    "df.groupby(\"key1\", dropna=False).size()\n",
    "\n",
    "df.groupby([\"key1\", \"key2\"], dropna=False).size()\n",
    "\n"
   ]
  },
  {
   "cell_type": "code",
   "execution_count": 34,
   "metadata": {
    "colab": {
     "base_uri": "https://localhost:8080/",
     "height": 269
    },
    "executionInfo": {
     "elapsed": 431,
     "status": "ok",
     "timestamp": 1714398152953,
     "user": {
      "displayName": "김유희",
      "userId": "00390714496880607784"
     },
     "user_tz": -540
    },
    "id": "DVlxcz8_h7J3",
    "outputId": "2427fa46-bf2e-4e09-8bf2-44cd1055a0fa"
   },
   "outputs": [
    {
     "data": {
      "text/html": [
       "<div>\n",
       "<style scoped>\n",
       "    .dataframe tbody tr th:only-of-type {\n",
       "        vertical-align: middle;\n",
       "    }\n",
       "\n",
       "    .dataframe tbody tr th {\n",
       "        vertical-align: top;\n",
       "    }\n",
       "\n",
       "    .dataframe thead th {\n",
       "        text-align: right;\n",
       "    }\n",
       "</style>\n",
       "<table border=\"1\" class=\"dataframe\">\n",
       "  <thead>\n",
       "    <tr style=\"text-align: right;\">\n",
       "      <th></th>\n",
       "      <th></th>\n",
       "      <th>data1</th>\n",
       "      <th>data2</th>\n",
       "    </tr>\n",
       "    <tr>\n",
       "      <th>key1</th>\n",
       "      <th>key2</th>\n",
       "      <th></th>\n",
       "      <th></th>\n",
       "    </tr>\n",
       "  </thead>\n",
       "  <tbody>\n",
       "    <tr>\n",
       "      <th rowspan=\"3\" valign=\"top\">a</th>\n",
       "      <th>1</th>\n",
       "      <td>1</td>\n",
       "      <td>1</td>\n",
       "    </tr>\n",
       "    <tr>\n",
       "      <th>2</th>\n",
       "      <td>1</td>\n",
       "      <td>1</td>\n",
       "    </tr>\n",
       "    <tr>\n",
       "      <th>&lt;NA&gt;</th>\n",
       "      <td>1</td>\n",
       "      <td>1</td>\n",
       "    </tr>\n",
       "    <tr>\n",
       "      <th rowspan=\"2\" valign=\"top\">b</th>\n",
       "      <th>1</th>\n",
       "      <td>1</td>\n",
       "      <td>1</td>\n",
       "    </tr>\n",
       "    <tr>\n",
       "      <th>2</th>\n",
       "      <td>1</td>\n",
       "      <td>1</td>\n",
       "    </tr>\n",
       "    <tr>\n",
       "      <th>NaN</th>\n",
       "      <th>1</th>\n",
       "      <td>2</td>\n",
       "      <td>2</td>\n",
       "    </tr>\n",
       "  </tbody>\n",
       "</table>\n",
       "</div>"
      ],
      "text/plain": [
       "           data1  data2\n",
       "key1 key2              \n",
       "a    1         1      1\n",
       "     2         1      1\n",
       "     <NA>      1      1\n",
       "b    1         1      1\n",
       "     2         1      1\n",
       "NaN  1         2      2"
      ]
     },
     "execution_count": 34,
     "metadata": {},
     "output_type": "execute_result"
    }
   ],
   "source": [
    "# count() 함수 : 그룹의 크기을 구하는 함수. 각 그룹에서 널이 아닌 값의 개수를 계산함\n",
    "df.groupby(\"key1\").count()\n",
    "\n",
    "df.groupby([\"key1\", \"key2\"], dropna=False).count()"
   ]
  },
  {
   "cell_type": "code",
   "execution_count": 35,
   "metadata": {
    "colab": {
     "base_uri": "https://localhost:8080/",
     "height": 206
    },
    "executionInfo": {
     "elapsed": 689,
     "status": "ok",
     "timestamp": 1714398255833,
     "user": {
      "displayName": "김유희",
      "userId": "00390714496880607784"
     },
     "user_tz": -540
    },
    "id": "zJq27kqaBKBG",
    "outputId": "b823b39d-2473-448e-fa91-c259a3a74782"
   },
   "outputs": [
    {
     "data": {
      "text/html": [
       "<div>\n",
       "<style scoped>\n",
       "    .dataframe tbody tr th:only-of-type {\n",
       "        vertical-align: middle;\n",
       "    }\n",
       "\n",
       "    .dataframe tbody tr th {\n",
       "        vertical-align: top;\n",
       "    }\n",
       "\n",
       "    .dataframe thead th {\n",
       "        text-align: right;\n",
       "    }\n",
       "</style>\n",
       "<table border=\"1\" class=\"dataframe\">\n",
       "  <thead>\n",
       "    <tr style=\"text-align: right;\">\n",
       "      <th></th>\n",
       "      <th></th>\n",
       "      <th>data2</th>\n",
       "    </tr>\n",
       "    <tr>\n",
       "      <th>key1</th>\n",
       "      <th>key2</th>\n",
       "      <th></th>\n",
       "    </tr>\n",
       "  </thead>\n",
       "  <tbody>\n",
       "    <tr>\n",
       "      <th rowspan=\"2\" valign=\"top\">a</th>\n",
       "      <th>1</th>\n",
       "      <td>0.912414</td>\n",
       "    </tr>\n",
       "    <tr>\n",
       "      <th>2</th>\n",
       "      <td>0.188211</td>\n",
       "    </tr>\n",
       "    <tr>\n",
       "      <th rowspan=\"2\" valign=\"top\">b</th>\n",
       "      <th>1</th>\n",
       "      <td>2.003697</td>\n",
       "    </tr>\n",
       "    <tr>\n",
       "      <th>2</th>\n",
       "      <td>-0.114928</td>\n",
       "    </tr>\n",
       "  </tbody>\n",
       "</table>\n",
       "</div>"
      ],
      "text/plain": [
       "              data2\n",
       "key1 key2          \n",
       "a    1     0.912414\n",
       "     2     0.188211\n",
       "b    1     2.003697\n",
       "     2    -0.114928"
      ]
     },
     "execution_count": 35,
     "metadata": {},
     "output_type": "execute_result"
    }
   ],
   "source": [
    "# 특히 대용량 데이터셋을 다룰 때 소수의 열(data2)만 집계(평균)하기\n",
    "df.groupby([\"key1\", \"key2\"])[[\"data2\"]].mean()"
   ]
  },
  {
   "cell_type": "markdown",
   "metadata": {
    "id": "2r7bxet3MFEv"
   },
   "source": [
    "## 예제: 10.2.1 열에 여러 가지 함수 적용하기\n",
    "* Column-Wise and Multiple Function Application\n"
   ]
  },
  {
   "cell_type": "code",
   "execution_count": 36,
   "metadata": {
    "colab": {
     "base_uri": "https://localhost:8080/",
     "height": 206
    },
    "executionInfo": {
     "elapsed": 429,
     "status": "ok",
     "timestamp": 1714284725059,
     "user": {
      "displayName": "김유희",
      "userId": "00390714496880607784"
     },
     "user_tz": -540
    },
    "id": "ZcQV3wzth7J6",
    "outputId": "24ff1bfb-8382-48b9-dabe-c3ac0bc4cd4d"
   },
   "outputs": [
    {
     "data": {
      "text/html": [
       "<div>\n",
       "<style scoped>\n",
       "    .dataframe tbody tr th:only-of-type {\n",
       "        vertical-align: middle;\n",
       "    }\n",
       "\n",
       "    .dataframe tbody tr th {\n",
       "        vertical-align: top;\n",
       "    }\n",
       "\n",
       "    .dataframe thead th {\n",
       "        text-align: right;\n",
       "    }\n",
       "</style>\n",
       "<table border=\"1\" class=\"dataframe\">\n",
       "  <thead>\n",
       "    <tr style=\"text-align: right;\">\n",
       "      <th></th>\n",
       "      <th>total_bill</th>\n",
       "      <th>tip</th>\n",
       "      <th>smoker</th>\n",
       "      <th>day</th>\n",
       "      <th>time</th>\n",
       "      <th>size</th>\n",
       "    </tr>\n",
       "  </thead>\n",
       "  <tbody>\n",
       "    <tr>\n",
       "      <th>0</th>\n",
       "      <td>16.99</td>\n",
       "      <td>1.01</td>\n",
       "      <td>No</td>\n",
       "      <td>Sun</td>\n",
       "      <td>Dinner</td>\n",
       "      <td>2</td>\n",
       "    </tr>\n",
       "    <tr>\n",
       "      <th>1</th>\n",
       "      <td>10.34</td>\n",
       "      <td>1.66</td>\n",
       "      <td>No</td>\n",
       "      <td>Sun</td>\n",
       "      <td>Dinner</td>\n",
       "      <td>3</td>\n",
       "    </tr>\n",
       "    <tr>\n",
       "      <th>2</th>\n",
       "      <td>21.01</td>\n",
       "      <td>3.50</td>\n",
       "      <td>No</td>\n",
       "      <td>Sun</td>\n",
       "      <td>Dinner</td>\n",
       "      <td>3</td>\n",
       "    </tr>\n",
       "    <tr>\n",
       "      <th>3</th>\n",
       "      <td>23.68</td>\n",
       "      <td>3.31</td>\n",
       "      <td>No</td>\n",
       "      <td>Sun</td>\n",
       "      <td>Dinner</td>\n",
       "      <td>2</td>\n",
       "    </tr>\n",
       "    <tr>\n",
       "      <th>4</th>\n",
       "      <td>24.59</td>\n",
       "      <td>3.61</td>\n",
       "      <td>No</td>\n",
       "      <td>Sun</td>\n",
       "      <td>Dinner</td>\n",
       "      <td>4</td>\n",
       "    </tr>\n",
       "  </tbody>\n",
       "</table>\n",
       "</div>"
      ],
      "text/plain": [
       "   total_bill   tip smoker  day    time  size\n",
       "0       16.99  1.01     No  Sun  Dinner     2\n",
       "1       10.34  1.66     No  Sun  Dinner     3\n",
       "2       21.01  3.50     No  Sun  Dinner     3\n",
       "3       23.68  3.31     No  Sun  Dinner     2\n",
       "4       24.59  3.61     No  Sun  Dinner     4"
      ]
     },
     "execution_count": 36,
     "metadata": {},
     "output_type": "execute_result"
    }
   ],
   "source": [
    "# 데이터셋 가져오기\n",
    "tips = pd.read_csv(\"examples/tips.csv\")\n",
    "tips.head()"
   ]
  },
  {
   "cell_type": "code",
   "execution_count": 37,
   "metadata": {
    "colab": {
     "base_uri": "https://localhost:8080/",
     "height": 206
    },
    "executionInfo": {
     "elapsed": 321,
     "status": "ok",
     "timestamp": 1714284733956,
     "user": {
      "displayName": "김유희",
      "userId": "00390714496880607784"
     },
     "user_tz": -540
    },
    "id": "oL0xqkQMh7J6",
    "outputId": "6861766e-abbe-4d6b-8daf-e282dfbb43b9"
   },
   "outputs": [
    {
     "data": {
      "text/html": [
       "<div>\n",
       "<style scoped>\n",
       "    .dataframe tbody tr th:only-of-type {\n",
       "        vertical-align: middle;\n",
       "    }\n",
       "\n",
       "    .dataframe tbody tr th {\n",
       "        vertical-align: top;\n",
       "    }\n",
       "\n",
       "    .dataframe thead th {\n",
       "        text-align: right;\n",
       "    }\n",
       "</style>\n",
       "<table border=\"1\" class=\"dataframe\">\n",
       "  <thead>\n",
       "    <tr style=\"text-align: right;\">\n",
       "      <th></th>\n",
       "      <th>total_bill</th>\n",
       "      <th>tip</th>\n",
       "      <th>smoker</th>\n",
       "      <th>day</th>\n",
       "      <th>time</th>\n",
       "      <th>size</th>\n",
       "      <th>tip_pct</th>\n",
       "    </tr>\n",
       "  </thead>\n",
       "  <tbody>\n",
       "    <tr>\n",
       "      <th>0</th>\n",
       "      <td>16.99</td>\n",
       "      <td>1.01</td>\n",
       "      <td>No</td>\n",
       "      <td>Sun</td>\n",
       "      <td>Dinner</td>\n",
       "      <td>2</td>\n",
       "      <td>0.059447</td>\n",
       "    </tr>\n",
       "    <tr>\n",
       "      <th>1</th>\n",
       "      <td>10.34</td>\n",
       "      <td>1.66</td>\n",
       "      <td>No</td>\n",
       "      <td>Sun</td>\n",
       "      <td>Dinner</td>\n",
       "      <td>3</td>\n",
       "      <td>0.160542</td>\n",
       "    </tr>\n",
       "    <tr>\n",
       "      <th>2</th>\n",
       "      <td>21.01</td>\n",
       "      <td>3.50</td>\n",
       "      <td>No</td>\n",
       "      <td>Sun</td>\n",
       "      <td>Dinner</td>\n",
       "      <td>3</td>\n",
       "      <td>0.166587</td>\n",
       "    </tr>\n",
       "    <tr>\n",
       "      <th>3</th>\n",
       "      <td>23.68</td>\n",
       "      <td>3.31</td>\n",
       "      <td>No</td>\n",
       "      <td>Sun</td>\n",
       "      <td>Dinner</td>\n",
       "      <td>2</td>\n",
       "      <td>0.139780</td>\n",
       "    </tr>\n",
       "    <tr>\n",
       "      <th>4</th>\n",
       "      <td>24.59</td>\n",
       "      <td>3.61</td>\n",
       "      <td>No</td>\n",
       "      <td>Sun</td>\n",
       "      <td>Dinner</td>\n",
       "      <td>4</td>\n",
       "      <td>0.146808</td>\n",
       "    </tr>\n",
       "  </tbody>\n",
       "</table>\n",
       "</div>"
      ],
      "text/plain": [
       "   total_bill   tip smoker  day    time  size   tip_pct\n",
       "0       16.99  1.01     No  Sun  Dinner     2  0.059447\n",
       "1       10.34  1.66     No  Sun  Dinner     3  0.160542\n",
       "2       21.01  3.50     No  Sun  Dinner     3  0.166587\n",
       "3       23.68  3.31     No  Sun  Dinner     2  0.139780\n",
       "4       24.59  3.61     No  Sun  Dinner     4  0.146808"
      ]
     },
     "execution_count": 37,
     "metadata": {},
     "output_type": "execute_result"
    }
   ],
   "source": [
    "# total_bill에서 팁의 비율을 tip_pct 열에 출가하기\n",
    "tips[\"tip_pct\"] = tips[\"tip\"] / tips[\"total_bill\"]\n",
    "tips.head()"
   ]
  },
  {
   "cell_type": "markdown",
   "metadata": {
    "id": "X5rUSthKPPEY"
   },
   "source": [
    "* agg()\n",
    "  * 데이터프레임의 모든 열을 집계하려면 mean이나 std 같은 메서드를 호출하거나 agg를 통해 원하는 함수를 사용\n",
    "  * 열에 따라 다른 함수를 사용해서 집계를 수행하거나 여러 개의 함수를 한 번에 적용하기"
   ]
  },
  {
   "cell_type": "code",
   "execution_count": 38,
   "metadata": {
    "id": "w3z_ODMOh7J6"
   },
   "outputs": [
    {
     "data": {
      "text/plain": [
       "day   smoker\n",
       "Fri   No        0.151650\n",
       "      Yes       0.174783\n",
       "Sat   No        0.158048\n",
       "      Yes       0.147906\n",
       "Sun   No        0.160113\n",
       "      Yes       0.187250\n",
       "Thur  No        0.160298\n",
       "      Yes       0.163863\n",
       "Name: tip_pct, dtype: float64"
      ]
     },
     "execution_count": 38,
     "metadata": {},
     "output_type": "execute_result"
    }
   ],
   "source": [
    "# ex1\n",
    "grouped = tips.groupby([\"day\", \"smoker\"])\n",
    "grouped_pct = grouped[\"tip_pct\"]\n",
    "grouped_pct.agg(\"mean\") # 기술 통계에서는 함수 이름을 문자열로 넘기기"
   ]
  },
  {
   "cell_type": "code",
   "execution_count": 47,
   "metadata": {},
   "outputs": [
    {
     "data": {
      "text/plain": [
       "day   smoker\n",
       "Fri   No        0.151650\n",
       "      Yes       0.174783\n",
       "Sat   No        0.158048\n",
       "      Yes       0.147906\n",
       "Sun   No        0.160113\n",
       "      Yes       0.187250\n",
       "Thur  No        0.160298\n",
       "      Yes       0.163863\n",
       "Name: tip_pct, dtype: float64"
      ]
     },
     "execution_count": 47,
     "metadata": {},
     "output_type": "execute_result"
    }
   ],
   "source": [
    "grouped = tips.groupby([\"day\", \"smoker\"])[\"tip_pct\"].agg(\"mean\") # 위 코드와 같음\n",
    "grouped"
   ]
  },
  {
   "cell_type": "code",
   "execution_count": 48,
   "metadata": {
    "colab": {
     "base_uri": "https://localhost:8080/",
     "height": 331
    },
    "executionInfo": {
     "elapsed": 449,
     "status": "ok",
     "timestamp": 1714284749634,
     "user": {
      "displayName": "김유희",
      "userId": "00390714496880607784"
     },
     "user_tz": -540
    },
    "id": "Q1FCYnpjh7J6",
    "outputId": "12cc7de7-3338-435b-f2e2-38b7799c1908"
   },
   "outputs": [
    {
     "data": {
      "text/html": [
       "<div>\n",
       "<style scoped>\n",
       "    .dataframe tbody tr th:only-of-type {\n",
       "        vertical-align: middle;\n",
       "    }\n",
       "\n",
       "    .dataframe tbody tr th {\n",
       "        vertical-align: top;\n",
       "    }\n",
       "\n",
       "    .dataframe thead th {\n",
       "        text-align: right;\n",
       "    }\n",
       "</style>\n",
       "<table border=\"1\" class=\"dataframe\">\n",
       "  <thead>\n",
       "    <tr style=\"text-align: right;\">\n",
       "      <th></th>\n",
       "      <th></th>\n",
       "      <th>mean</th>\n",
       "      <th>std</th>\n",
       "    </tr>\n",
       "    <tr>\n",
       "      <th>day</th>\n",
       "      <th>smoker</th>\n",
       "      <th></th>\n",
       "      <th></th>\n",
       "    </tr>\n",
       "  </thead>\n",
       "  <tbody>\n",
       "    <tr>\n",
       "      <th rowspan=\"2\" valign=\"top\">Fri</th>\n",
       "      <th>No</th>\n",
       "      <td>0.151650</td>\n",
       "      <td>0.028123</td>\n",
       "    </tr>\n",
       "    <tr>\n",
       "      <th>Yes</th>\n",
       "      <td>0.174783</td>\n",
       "      <td>0.051293</td>\n",
       "    </tr>\n",
       "    <tr>\n",
       "      <th rowspan=\"2\" valign=\"top\">Sat</th>\n",
       "      <th>No</th>\n",
       "      <td>0.158048</td>\n",
       "      <td>0.039767</td>\n",
       "    </tr>\n",
       "    <tr>\n",
       "      <th>Yes</th>\n",
       "      <td>0.147906</td>\n",
       "      <td>0.061375</td>\n",
       "    </tr>\n",
       "    <tr>\n",
       "      <th rowspan=\"2\" valign=\"top\">Sun</th>\n",
       "      <th>No</th>\n",
       "      <td>0.160113</td>\n",
       "      <td>0.042347</td>\n",
       "    </tr>\n",
       "    <tr>\n",
       "      <th>Yes</th>\n",
       "      <td>0.187250</td>\n",
       "      <td>0.154134</td>\n",
       "    </tr>\n",
       "    <tr>\n",
       "      <th rowspan=\"2\" valign=\"top\">Thur</th>\n",
       "      <th>No</th>\n",
       "      <td>0.160298</td>\n",
       "      <td>0.038774</td>\n",
       "    </tr>\n",
       "    <tr>\n",
       "      <th>Yes</th>\n",
       "      <td>0.163863</td>\n",
       "      <td>0.039389</td>\n",
       "    </tr>\n",
       "  </tbody>\n",
       "</table>\n",
       "</div>"
      ],
      "text/plain": [
       "                 mean       std\n",
       "day  smoker                    \n",
       "Fri  No      0.151650  0.028123\n",
       "     Yes     0.174783  0.051293\n",
       "Sat  No      0.158048  0.039767\n",
       "     Yes     0.147906  0.061375\n",
       "Sun  No      0.160113  0.042347\n",
       "     Yes     0.187250  0.154134\n",
       "Thur No      0.160298  0.038774\n",
       "     Yes     0.163863  0.039389"
      ]
     },
     "execution_count": 48,
     "metadata": {},
     "output_type": "execute_result"
    }
   ],
   "source": [
    "# ex2\n",
    "grouped_pct.agg([\"mean\", \"std\"])  #함수 이름을 열 이름으로 하는 데이터프레임을 얻는다."
   ]
  },
  {
   "cell_type": "code",
   "execution_count": 56,
   "metadata": {
    "colab": {
     "base_uri": "https://localhost:8080/",
     "height": 363
    },
    "executionInfo": {
     "elapsed": 340,
     "status": "ok",
     "timestamp": 1714284755908,
     "user": {
      "displayName": "김유희",
      "userId": "00390714496880607784"
     },
     "user_tz": -540
    },
    "id": "GSaRFJXGh7J6",
    "outputId": "6f1ca04e-e4aa-4d2a-ea31-4a7d00ab94eb"
   },
   "outputs": [
    {
     "ename": "KeyError",
     "evalue": "\"['tip_pct' 'total_bill'] not in index\"",
     "output_type": "error",
     "traceback": [
      "\u001b[1;31m---------------------------------------------------------------------------\u001b[0m",
      "\u001b[1;31mKeyError\u001b[0m                                  Traceback (most recent call last)",
      "Cell \u001b[1;32mIn[56], line 3\u001b[0m\n\u001b[0;32m      1\u001b[0m \u001b[38;5;66;03m# ex3 데이터프레임은 열마다 다른 함수를 적용하거나 여러 개의 함수를 모든 열에 적용하기\u001b[39;00m\n\u001b[0;32m      2\u001b[0m functions \u001b[38;5;241m=\u001b[39m [\u001b[38;5;124m\"\u001b[39m\u001b[38;5;124mcount\u001b[39m\u001b[38;5;124m\"\u001b[39m, \u001b[38;5;124m\"\u001b[39m\u001b[38;5;124mmean\u001b[39m\u001b[38;5;124m\"\u001b[39m, \u001b[38;5;124m\"\u001b[39m\u001b[38;5;124mmax\u001b[39m\u001b[38;5;124m\"\u001b[39m]\n\u001b[1;32m----> 3\u001b[0m result \u001b[38;5;241m=\u001b[39m \u001b[43mgrouped\u001b[49m\u001b[43m[\u001b[49m\u001b[43m[\u001b[49m\u001b[38;5;124;43m\"\u001b[39;49m\u001b[38;5;124;43mtip_pct\u001b[39;49m\u001b[38;5;124;43m\"\u001b[39;49m\u001b[43m,\u001b[49m\u001b[43m \u001b[49m\u001b[38;5;124;43m\"\u001b[39;49m\u001b[38;5;124;43mtotal_bill\u001b[39;49m\u001b[38;5;124;43m\"\u001b[39;49m\u001b[43m]\u001b[49m\u001b[43m]\u001b[49m\u001b[38;5;241m.\u001b[39magg(functions)  \u001b[38;5;66;03m# 데이터프레임은 계층적인 열로 구성\u001b[39;00m\n\u001b[0;32m      4\u001b[0m result\n",
      "File \u001b[1;32m~\\AppData\\Local\\Programs\\Python\\Python312\\Lib\\site-packages\\pandas\\core\\series.py:1144\u001b[0m, in \u001b[0;36mSeries.__getitem__\u001b[1;34m(self, key)\u001b[0m\n\u001b[0;32m   1141\u001b[0m     key \u001b[38;5;241m=\u001b[39m np\u001b[38;5;241m.\u001b[39masarray(key, dtype\u001b[38;5;241m=\u001b[39m\u001b[38;5;28mbool\u001b[39m)\n\u001b[0;32m   1142\u001b[0m     \u001b[38;5;28;01mreturn\u001b[39;00m \u001b[38;5;28mself\u001b[39m\u001b[38;5;241m.\u001b[39m_get_rows_with_mask(key)\n\u001b[1;32m-> 1144\u001b[0m \u001b[38;5;28;01mreturn\u001b[39;00m \u001b[38;5;28;43mself\u001b[39;49m\u001b[38;5;241;43m.\u001b[39;49m\u001b[43m_get_with\u001b[49m\u001b[43m(\u001b[49m\u001b[43mkey\u001b[49m\u001b[43m)\u001b[49m\n",
      "File \u001b[1;32m~\\AppData\\Local\\Programs\\Python\\Python312\\Lib\\site-packages\\pandas\\core\\series.py:1185\u001b[0m, in \u001b[0;36mSeries._get_with\u001b[1;34m(self, key)\u001b[0m\n\u001b[0;32m   1182\u001b[0m         \u001b[38;5;28;01mreturn\u001b[39;00m \u001b[38;5;28mself\u001b[39m\u001b[38;5;241m.\u001b[39miloc[key]\n\u001b[0;32m   1184\u001b[0m \u001b[38;5;66;03m# handle the dup indexing case GH#4246\u001b[39;00m\n\u001b[1;32m-> 1185\u001b[0m \u001b[38;5;28;01mreturn\u001b[39;00m \u001b[38;5;28;43mself\u001b[39;49m\u001b[38;5;241;43m.\u001b[39;49m\u001b[43mloc\u001b[49m\u001b[43m[\u001b[49m\u001b[43mkey\u001b[49m\u001b[43m]\u001b[49m\n",
      "File \u001b[1;32m~\\AppData\\Local\\Programs\\Python\\Python312\\Lib\\site-packages\\pandas\\core\\indexing.py:1191\u001b[0m, in \u001b[0;36m_LocationIndexer.__getitem__\u001b[1;34m(self, key)\u001b[0m\n\u001b[0;32m   1189\u001b[0m maybe_callable \u001b[38;5;241m=\u001b[39m com\u001b[38;5;241m.\u001b[39mapply_if_callable(key, \u001b[38;5;28mself\u001b[39m\u001b[38;5;241m.\u001b[39mobj)\n\u001b[0;32m   1190\u001b[0m maybe_callable \u001b[38;5;241m=\u001b[39m \u001b[38;5;28mself\u001b[39m\u001b[38;5;241m.\u001b[39m_check_deprecated_callable_usage(key, maybe_callable)\n\u001b[1;32m-> 1191\u001b[0m \u001b[38;5;28;01mreturn\u001b[39;00m \u001b[38;5;28;43mself\u001b[39;49m\u001b[38;5;241;43m.\u001b[39;49m\u001b[43m_getitem_axis\u001b[49m\u001b[43m(\u001b[49m\u001b[43mmaybe_callable\u001b[49m\u001b[43m,\u001b[49m\u001b[43m \u001b[49m\u001b[43maxis\u001b[49m\u001b[38;5;241;43m=\u001b[39;49m\u001b[43maxis\u001b[49m\u001b[43m)\u001b[49m\n",
      "File \u001b[1;32m~\\AppData\\Local\\Programs\\Python\\Python312\\Lib\\site-packages\\pandas\\core\\indexing.py:1420\u001b[0m, in \u001b[0;36m_LocIndexer._getitem_axis\u001b[1;34m(self, key, axis)\u001b[0m\n\u001b[0;32m   1417\u001b[0m     \u001b[38;5;28;01mif\u001b[39;00m \u001b[38;5;28mhasattr\u001b[39m(key, \u001b[38;5;124m\"\u001b[39m\u001b[38;5;124mndim\u001b[39m\u001b[38;5;124m\"\u001b[39m) \u001b[38;5;129;01mand\u001b[39;00m key\u001b[38;5;241m.\u001b[39mndim \u001b[38;5;241m>\u001b[39m \u001b[38;5;241m1\u001b[39m:\n\u001b[0;32m   1418\u001b[0m         \u001b[38;5;28;01mraise\u001b[39;00m \u001b[38;5;167;01mValueError\u001b[39;00m(\u001b[38;5;124m\"\u001b[39m\u001b[38;5;124mCannot index with multidimensional key\u001b[39m\u001b[38;5;124m\"\u001b[39m)\n\u001b[1;32m-> 1420\u001b[0m     \u001b[38;5;28;01mreturn\u001b[39;00m \u001b[38;5;28;43mself\u001b[39;49m\u001b[38;5;241;43m.\u001b[39;49m\u001b[43m_getitem_iterable\u001b[49m\u001b[43m(\u001b[49m\u001b[43mkey\u001b[49m\u001b[43m,\u001b[49m\u001b[43m \u001b[49m\u001b[43maxis\u001b[49m\u001b[38;5;241;43m=\u001b[39;49m\u001b[43maxis\u001b[49m\u001b[43m)\u001b[49m\n\u001b[0;32m   1422\u001b[0m \u001b[38;5;66;03m# nested tuple slicing\u001b[39;00m\n\u001b[0;32m   1423\u001b[0m \u001b[38;5;28;01mif\u001b[39;00m is_nested_tuple(key, labels):\n",
      "File \u001b[1;32m~\\AppData\\Local\\Programs\\Python\\Python312\\Lib\\site-packages\\pandas\\core\\indexing.py:1360\u001b[0m, in \u001b[0;36m_LocIndexer._getitem_iterable\u001b[1;34m(self, key, axis)\u001b[0m\n\u001b[0;32m   1357\u001b[0m \u001b[38;5;28mself\u001b[39m\u001b[38;5;241m.\u001b[39m_validate_key(key, axis)\n\u001b[0;32m   1359\u001b[0m \u001b[38;5;66;03m# A collection of keys\u001b[39;00m\n\u001b[1;32m-> 1360\u001b[0m keyarr, indexer \u001b[38;5;241m=\u001b[39m \u001b[38;5;28;43mself\u001b[39;49m\u001b[38;5;241;43m.\u001b[39;49m\u001b[43m_get_listlike_indexer\u001b[49m\u001b[43m(\u001b[49m\u001b[43mkey\u001b[49m\u001b[43m,\u001b[49m\u001b[43m \u001b[49m\u001b[43maxis\u001b[49m\u001b[43m)\u001b[49m\n\u001b[0;32m   1361\u001b[0m \u001b[38;5;28;01mreturn\u001b[39;00m \u001b[38;5;28mself\u001b[39m\u001b[38;5;241m.\u001b[39mobj\u001b[38;5;241m.\u001b[39m_reindex_with_indexers(\n\u001b[0;32m   1362\u001b[0m     {axis: [keyarr, indexer]}, copy\u001b[38;5;241m=\u001b[39m\u001b[38;5;28;01mTrue\u001b[39;00m, allow_dups\u001b[38;5;241m=\u001b[39m\u001b[38;5;28;01mTrue\u001b[39;00m\n\u001b[0;32m   1363\u001b[0m )\n",
      "File \u001b[1;32m~\\AppData\\Local\\Programs\\Python\\Python312\\Lib\\site-packages\\pandas\\core\\indexing.py:1558\u001b[0m, in \u001b[0;36m_LocIndexer._get_listlike_indexer\u001b[1;34m(self, key, axis)\u001b[0m\n\u001b[0;32m   1555\u001b[0m ax \u001b[38;5;241m=\u001b[39m \u001b[38;5;28mself\u001b[39m\u001b[38;5;241m.\u001b[39mobj\u001b[38;5;241m.\u001b[39m_get_axis(axis)\n\u001b[0;32m   1556\u001b[0m axis_name \u001b[38;5;241m=\u001b[39m \u001b[38;5;28mself\u001b[39m\u001b[38;5;241m.\u001b[39mobj\u001b[38;5;241m.\u001b[39m_get_axis_name(axis)\n\u001b[1;32m-> 1558\u001b[0m keyarr, indexer \u001b[38;5;241m=\u001b[39m \u001b[43max\u001b[49m\u001b[38;5;241;43m.\u001b[39;49m\u001b[43m_get_indexer_strict\u001b[49m\u001b[43m(\u001b[49m\u001b[43mkey\u001b[49m\u001b[43m,\u001b[49m\u001b[43m \u001b[49m\u001b[43maxis_name\u001b[49m\u001b[43m)\u001b[49m\n\u001b[0;32m   1560\u001b[0m \u001b[38;5;28;01mreturn\u001b[39;00m keyarr, indexer\n",
      "File \u001b[1;32m~\\AppData\\Local\\Programs\\Python\\Python312\\Lib\\site-packages\\pandas\\core\\indexes\\multi.py:2763\u001b[0m, in \u001b[0;36mMultiIndex._get_indexer_strict\u001b[1;34m(self, key, axis_name)\u001b[0m\n\u001b[0;32m   2760\u001b[0m \u001b[38;5;28;01mif\u001b[39;00m \u001b[38;5;28mlen\u001b[39m(keyarr) \u001b[38;5;129;01mand\u001b[39;00m \u001b[38;5;129;01mnot\u001b[39;00m \u001b[38;5;28misinstance\u001b[39m(keyarr[\u001b[38;5;241m0\u001b[39m], \u001b[38;5;28mtuple\u001b[39m):\n\u001b[0;32m   2761\u001b[0m     indexer \u001b[38;5;241m=\u001b[39m \u001b[38;5;28mself\u001b[39m\u001b[38;5;241m.\u001b[39m_get_indexer_level_0(keyarr)\n\u001b[1;32m-> 2763\u001b[0m     \u001b[38;5;28;43mself\u001b[39;49m\u001b[38;5;241;43m.\u001b[39;49m\u001b[43m_raise_if_missing\u001b[49m\u001b[43m(\u001b[49m\u001b[43mkey\u001b[49m\u001b[43m,\u001b[49m\u001b[43m \u001b[49m\u001b[43mindexer\u001b[49m\u001b[43m,\u001b[49m\u001b[43m \u001b[49m\u001b[43maxis_name\u001b[49m\u001b[43m)\u001b[49m\n\u001b[0;32m   2764\u001b[0m     \u001b[38;5;28;01mreturn\u001b[39;00m \u001b[38;5;28mself\u001b[39m[indexer], indexer\n\u001b[0;32m   2766\u001b[0m \u001b[38;5;28;01mreturn\u001b[39;00m \u001b[38;5;28msuper\u001b[39m()\u001b[38;5;241m.\u001b[39m_get_indexer_strict(key, axis_name)\n",
      "File \u001b[1;32m~\\AppData\\Local\\Programs\\Python\\Python312\\Lib\\site-packages\\pandas\\core\\indexes\\multi.py:2781\u001b[0m, in \u001b[0;36mMultiIndex._raise_if_missing\u001b[1;34m(self, key, indexer, axis_name)\u001b[0m\n\u001b[0;32m   2779\u001b[0m cmask \u001b[38;5;241m=\u001b[39m check \u001b[38;5;241m==\u001b[39m \u001b[38;5;241m-\u001b[39m\u001b[38;5;241m1\u001b[39m\n\u001b[0;32m   2780\u001b[0m \u001b[38;5;28;01mif\u001b[39;00m cmask\u001b[38;5;241m.\u001b[39many():\n\u001b[1;32m-> 2781\u001b[0m     \u001b[38;5;28;01mraise\u001b[39;00m \u001b[38;5;167;01mKeyError\u001b[39;00m(\u001b[38;5;124mf\u001b[39m\u001b[38;5;124m\"\u001b[39m\u001b[38;5;132;01m{\u001b[39;00mkeyarr[cmask]\u001b[38;5;132;01m}\u001b[39;00m\u001b[38;5;124m not in index\u001b[39m\u001b[38;5;124m\"\u001b[39m)\n\u001b[0;32m   2782\u001b[0m \u001b[38;5;66;03m# We get here when levels still contain values which are not\u001b[39;00m\n\u001b[0;32m   2783\u001b[0m \u001b[38;5;66;03m# actually in Index anymore\u001b[39;00m\n\u001b[0;32m   2784\u001b[0m \u001b[38;5;28;01mraise\u001b[39;00m \u001b[38;5;167;01mKeyError\u001b[39;00m(\u001b[38;5;124mf\u001b[39m\u001b[38;5;124m\"\u001b[39m\u001b[38;5;132;01m{\u001b[39;00mkeyarr\u001b[38;5;132;01m}\u001b[39;00m\u001b[38;5;124m not in index\u001b[39m\u001b[38;5;124m\"\u001b[39m)\n",
      "\u001b[1;31mKeyError\u001b[0m: \"['tip_pct' 'total_bill'] not in index\""
     ]
    }
   ],
   "source": [
    "# ex3 데이터프레임은 열마다 다른 함수를 적용하거나 여러 개의 함수를 모든 열에 적용하기\n",
    "functions = [\"count\", \"mean\", \"max\"]\n",
    "result = grouped[[\"tip_pct\", \"total_bill\"]].agg(functions)  # 데이터프레임은 계층적인 열로 구성\n",
    "result"
   ]
  },
  {
   "cell_type": "code",
   "execution_count": 50,
   "metadata": {
    "colab": {
     "base_uri": "https://localhost:8080/",
     "height": 331
    },
    "executionInfo": {
     "elapsed": 311,
     "status": "ok",
     "timestamp": 1714284814070,
     "user": {
      "displayName": "김유희",
      "userId": "00390714496880607784"
     },
     "user_tz": -540
    },
    "id": "6Sl_M0KgUF_5",
    "outputId": "8f784db2-3bc8-4a53-d3ff-9e406e84bd32"
   },
   "outputs": [
    {
     "data": {
      "text/html": [
       "<div>\n",
       "<style scoped>\n",
       "    .dataframe tbody tr th:only-of-type {\n",
       "        vertical-align: middle;\n",
       "    }\n",
       "\n",
       "    .dataframe tbody tr th {\n",
       "        vertical-align: top;\n",
       "    }\n",
       "\n",
       "    .dataframe thead th {\n",
       "        text-align: right;\n",
       "    }\n",
       "</style>\n",
       "<table border=\"1\" class=\"dataframe\">\n",
       "  <thead>\n",
       "    <tr style=\"text-align: right;\">\n",
       "      <th></th>\n",
       "      <th></th>\n",
       "      <th>count</th>\n",
       "      <th>mean</th>\n",
       "      <th>max</th>\n",
       "      <th>count</th>\n",
       "      <th>mean</th>\n",
       "      <th>max</th>\n",
       "    </tr>\n",
       "    <tr>\n",
       "      <th>day</th>\n",
       "      <th>smoker</th>\n",
       "      <th></th>\n",
       "      <th></th>\n",
       "      <th></th>\n",
       "      <th></th>\n",
       "      <th></th>\n",
       "      <th></th>\n",
       "    </tr>\n",
       "  </thead>\n",
       "  <tbody>\n",
       "    <tr>\n",
       "      <th rowspan=\"2\" valign=\"top\">Fri</th>\n",
       "      <th>No</th>\n",
       "      <td>4</td>\n",
       "      <td>0.151650</td>\n",
       "      <td>0.187735</td>\n",
       "      <td>4</td>\n",
       "      <td>18.420000</td>\n",
       "      <td>22.75</td>\n",
       "    </tr>\n",
       "    <tr>\n",
       "      <th>Yes</th>\n",
       "      <td>15</td>\n",
       "      <td>0.174783</td>\n",
       "      <td>0.263480</td>\n",
       "      <td>15</td>\n",
       "      <td>16.813333</td>\n",
       "      <td>40.17</td>\n",
       "    </tr>\n",
       "    <tr>\n",
       "      <th rowspan=\"2\" valign=\"top\">Sat</th>\n",
       "      <th>No</th>\n",
       "      <td>45</td>\n",
       "      <td>0.158048</td>\n",
       "      <td>0.291990</td>\n",
       "      <td>45</td>\n",
       "      <td>19.661778</td>\n",
       "      <td>48.33</td>\n",
       "    </tr>\n",
       "    <tr>\n",
       "      <th>Yes</th>\n",
       "      <td>42</td>\n",
       "      <td>0.147906</td>\n",
       "      <td>0.325733</td>\n",
       "      <td>42</td>\n",
       "      <td>21.276667</td>\n",
       "      <td>50.81</td>\n",
       "    </tr>\n",
       "    <tr>\n",
       "      <th rowspan=\"2\" valign=\"top\">Sun</th>\n",
       "      <th>No</th>\n",
       "      <td>57</td>\n",
       "      <td>0.160113</td>\n",
       "      <td>0.252672</td>\n",
       "      <td>57</td>\n",
       "      <td>20.506667</td>\n",
       "      <td>48.17</td>\n",
       "    </tr>\n",
       "    <tr>\n",
       "      <th>Yes</th>\n",
       "      <td>19</td>\n",
       "      <td>0.187250</td>\n",
       "      <td>0.710345</td>\n",
       "      <td>19</td>\n",
       "      <td>24.120000</td>\n",
       "      <td>45.35</td>\n",
       "    </tr>\n",
       "    <tr>\n",
       "      <th rowspan=\"2\" valign=\"top\">Thur</th>\n",
       "      <th>No</th>\n",
       "      <td>45</td>\n",
       "      <td>0.160298</td>\n",
       "      <td>0.266312</td>\n",
       "      <td>45</td>\n",
       "      <td>17.113111</td>\n",
       "      <td>41.19</td>\n",
       "    </tr>\n",
       "    <tr>\n",
       "      <th>Yes</th>\n",
       "      <td>17</td>\n",
       "      <td>0.163863</td>\n",
       "      <td>0.241255</td>\n",
       "      <td>17</td>\n",
       "      <td>19.190588</td>\n",
       "      <td>43.11</td>\n",
       "    </tr>\n",
       "  </tbody>\n",
       "</table>\n",
       "</div>"
      ],
      "text/plain": [
       "             count      mean       max  count       mean    max\n",
       "day  smoker                                                    \n",
       "Fri  No          4  0.151650  0.187735      4  18.420000  22.75\n",
       "     Yes        15  0.174783  0.263480     15  16.813333  40.17\n",
       "Sat  No         45  0.158048  0.291990     45  19.661778  48.33\n",
       "     Yes        42  0.147906  0.325733     42  21.276667  50.81\n",
       "Sun  No         57  0.160113  0.252672     57  20.506667  48.17\n",
       "     Yes        19  0.187250  0.710345     19  24.120000  45.35\n",
       "Thur No         45  0.160298  0.266312     45  17.113111  41.19\n",
       "     Yes        17  0.163863  0.241255     17  19.190588  43.11"
      ]
     },
     "execution_count": 50,
     "metadata": {},
     "output_type": "execute_result"
    }
   ],
   "source": [
    "# 각 열을 따로 계산한 다음 concat 메서드를 이용해 keys 인수로 열 이름을 넘긴 후 이어 붙인 것과 동일\n",
    "result_conc = pd.concat([result['tip_pct'], result['total_bill']], axis='columns')\n",
    "result_conc"
   ]
  },
  {
   "cell_type": "markdown",
   "metadata": {
    "id": "d9D-Guz-h9Fc"
   },
   "source": [
    "## # 10.2.2 색인되지 않은 형태로 집계된 데이터 반환하기\n",
    "* 집계된 데이터는 유일한 그룹 키 조합으로 (어떤 경우에는 계층적 색인)되어 반환되었다.\n",
    "* groupby메서드에 as_index=False를 넘겨서 색인 작업을 비활성화"
   ]
  },
  {
   "cell_type": "code",
   "execution_count": 60,
   "metadata": {
    "colab": {
     "base_uri": "https://localhost:8080/",
     "height": 300
    },
    "executionInfo": {
     "elapsed": 385,
     "status": "ok",
     "timestamp": 1714288263631,
     "user": {
      "displayName": "김유희",
      "userId": "00390714496880607784"
     },
     "user_tz": -540
    },
    "id": "5S2kbBW0h7J_",
    "outputId": "c226e1f9-8f08-4586-c73a-018a897dfcd4"
   },
   "outputs": [
    {
     "data": {
      "text/html": [
       "<div>\n",
       "<style scoped>\n",
       "    .dataframe tbody tr th:only-of-type {\n",
       "        vertical-align: middle;\n",
       "    }\n",
       "\n",
       "    .dataframe tbody tr th {\n",
       "        vertical-align: top;\n",
       "    }\n",
       "\n",
       "    .dataframe thead th {\n",
       "        text-align: right;\n",
       "    }\n",
       "</style>\n",
       "<table border=\"1\" class=\"dataframe\">\n",
       "  <thead>\n",
       "    <tr style=\"text-align: right;\">\n",
       "      <th></th>\n",
       "      <th></th>\n",
       "      <th>total_bill</th>\n",
       "      <th>tip</th>\n",
       "      <th>size</th>\n",
       "      <th>tip_pct</th>\n",
       "    </tr>\n",
       "    <tr>\n",
       "      <th>day</th>\n",
       "      <th>smoker</th>\n",
       "      <th></th>\n",
       "      <th></th>\n",
       "      <th></th>\n",
       "      <th></th>\n",
       "    </tr>\n",
       "  </thead>\n",
       "  <tbody>\n",
       "    <tr>\n",
       "      <th rowspan=\"2\" valign=\"top\">Fri</th>\n",
       "      <th>No</th>\n",
       "      <td>18.420000</td>\n",
       "      <td>2.812500</td>\n",
       "      <td>2.250000</td>\n",
       "      <td>0.151650</td>\n",
       "    </tr>\n",
       "    <tr>\n",
       "      <th>Yes</th>\n",
       "      <td>16.813333</td>\n",
       "      <td>2.714000</td>\n",
       "      <td>2.066667</td>\n",
       "      <td>0.174783</td>\n",
       "    </tr>\n",
       "    <tr>\n",
       "      <th rowspan=\"2\" valign=\"top\">Sat</th>\n",
       "      <th>No</th>\n",
       "      <td>19.661778</td>\n",
       "      <td>3.102889</td>\n",
       "      <td>2.555556</td>\n",
       "      <td>0.158048</td>\n",
       "    </tr>\n",
       "    <tr>\n",
       "      <th>Yes</th>\n",
       "      <td>21.276667</td>\n",
       "      <td>2.875476</td>\n",
       "      <td>2.476190</td>\n",
       "      <td>0.147906</td>\n",
       "    </tr>\n",
       "    <tr>\n",
       "      <th rowspan=\"2\" valign=\"top\">Sun</th>\n",
       "      <th>No</th>\n",
       "      <td>20.506667</td>\n",
       "      <td>3.167895</td>\n",
       "      <td>2.929825</td>\n",
       "      <td>0.160113</td>\n",
       "    </tr>\n",
       "    <tr>\n",
       "      <th>Yes</th>\n",
       "      <td>24.120000</td>\n",
       "      <td>3.516842</td>\n",
       "      <td>2.578947</td>\n",
       "      <td>0.187250</td>\n",
       "    </tr>\n",
       "    <tr>\n",
       "      <th rowspan=\"2\" valign=\"top\">Thur</th>\n",
       "      <th>No</th>\n",
       "      <td>17.113111</td>\n",
       "      <td>2.673778</td>\n",
       "      <td>2.488889</td>\n",
       "      <td>0.160298</td>\n",
       "    </tr>\n",
       "    <tr>\n",
       "      <th>Yes</th>\n",
       "      <td>19.190588</td>\n",
       "      <td>3.030000</td>\n",
       "      <td>2.352941</td>\n",
       "      <td>0.163863</td>\n",
       "    </tr>\n",
       "  </tbody>\n",
       "</table>\n",
       "</div>"
      ],
      "text/plain": [
       "             total_bill       tip      size   tip_pct\n",
       "day  smoker                                          \n",
       "Fri  No       18.420000  2.812500  2.250000  0.151650\n",
       "     Yes      16.813333  2.714000  2.066667  0.174783\n",
       "Sat  No       19.661778  3.102889  2.555556  0.158048\n",
       "     Yes      21.276667  2.875476  2.476190  0.147906\n",
       "Sun  No       20.506667  3.167895  2.929825  0.160113\n",
       "     Yes      24.120000  3.516842  2.578947  0.187250\n",
       "Thur No       17.113111  2.673778  2.488889  0.160298\n",
       "     Yes      19.190588  3.030000  2.352941  0.163863"
      ]
     },
     "execution_count": 60,
     "metadata": {},
     "output_type": "execute_result"
    }
   ],
   "source": [
    "# grouped = tips.groupby([\"day\", \"smoker\"], as_index=False)\n",
    "# grouped.mean(numeric_only=True)\n",
    "\n",
    "tips.groupby([\"day\",\"smoker\"], as_index = True).mean(numeric_only = True)"
   ]
  },
  {
   "cell_type": "markdown",
   "metadata": {
    "id": "DWYQjfNpjGe8"
   },
   "source": [
    "## # 10.3 apply 메서드 : 일반적인 분리-적용-병합\n",
    "* apply() 메서드는 groupby 메서드의 가장 일반적인 메서드\n",
    "* apply 메서드는 객체를 여러 조각으로 나누고, 전달된 함수를 각 조각에 일괄적으로 적용한 후 이를 다시 합친다."
   ]
  },
  {
   "cell_type": "code",
   "execution_count": 61,
   "metadata": {
    "colab": {
     "base_uri": "https://localhost:8080/",
     "height": 237
    },
    "executionInfo": {
     "elapsed": 296,
     "status": "ok",
     "timestamp": 1714288622528,
     "user": {
      "displayName": "김유희",
      "userId": "00390714496880607784"
     },
     "user_tz": -540
    },
    "id": "2tXU4ezXh7J_",
    "outputId": "6fda0388-8209-4d5d-b434-c8949fad889b"
   },
   "outputs": [
    {
     "data": {
      "text/html": [
       "<div>\n",
       "<style scoped>\n",
       "    .dataframe tbody tr th:only-of-type {\n",
       "        vertical-align: middle;\n",
       "    }\n",
       "\n",
       "    .dataframe tbody tr th {\n",
       "        vertical-align: top;\n",
       "    }\n",
       "\n",
       "    .dataframe thead th {\n",
       "        text-align: right;\n",
       "    }\n",
       "</style>\n",
       "<table border=\"1\" class=\"dataframe\">\n",
       "  <thead>\n",
       "    <tr style=\"text-align: right;\">\n",
       "      <th></th>\n",
       "      <th>total_bill</th>\n",
       "      <th>tip</th>\n",
       "      <th>smoker</th>\n",
       "      <th>day</th>\n",
       "      <th>time</th>\n",
       "      <th>size</th>\n",
       "      <th>tip_pct</th>\n",
       "    </tr>\n",
       "  </thead>\n",
       "  <tbody>\n",
       "    <tr>\n",
       "      <th>172</th>\n",
       "      <td>7.25</td>\n",
       "      <td>5.15</td>\n",
       "      <td>Yes</td>\n",
       "      <td>Sun</td>\n",
       "      <td>Dinner</td>\n",
       "      <td>2</td>\n",
       "      <td>0.710345</td>\n",
       "    </tr>\n",
       "    <tr>\n",
       "      <th>178</th>\n",
       "      <td>9.60</td>\n",
       "      <td>4.00</td>\n",
       "      <td>Yes</td>\n",
       "      <td>Sun</td>\n",
       "      <td>Dinner</td>\n",
       "      <td>2</td>\n",
       "      <td>0.416667</td>\n",
       "    </tr>\n",
       "    <tr>\n",
       "      <th>67</th>\n",
       "      <td>3.07</td>\n",
       "      <td>1.00</td>\n",
       "      <td>Yes</td>\n",
       "      <td>Sat</td>\n",
       "      <td>Dinner</td>\n",
       "      <td>1</td>\n",
       "      <td>0.325733</td>\n",
       "    </tr>\n",
       "    <tr>\n",
       "      <th>232</th>\n",
       "      <td>11.61</td>\n",
       "      <td>3.39</td>\n",
       "      <td>No</td>\n",
       "      <td>Sat</td>\n",
       "      <td>Dinner</td>\n",
       "      <td>2</td>\n",
       "      <td>0.291990</td>\n",
       "    </tr>\n",
       "    <tr>\n",
       "      <th>183</th>\n",
       "      <td>23.17</td>\n",
       "      <td>6.50</td>\n",
       "      <td>Yes</td>\n",
       "      <td>Sun</td>\n",
       "      <td>Dinner</td>\n",
       "      <td>4</td>\n",
       "      <td>0.280535</td>\n",
       "    </tr>\n",
       "    <tr>\n",
       "      <th>109</th>\n",
       "      <td>14.31</td>\n",
       "      <td>4.00</td>\n",
       "      <td>Yes</td>\n",
       "      <td>Sat</td>\n",
       "      <td>Dinner</td>\n",
       "      <td>2</td>\n",
       "      <td>0.279525</td>\n",
       "    </tr>\n",
       "  </tbody>\n",
       "</table>\n",
       "</div>"
      ],
      "text/plain": [
       "     total_bill   tip smoker  day    time  size   tip_pct\n",
       "172        7.25  5.15    Yes  Sun  Dinner     2  0.710345\n",
       "178        9.60  4.00    Yes  Sun  Dinner     2  0.416667\n",
       "67         3.07  1.00    Yes  Sat  Dinner     1  0.325733\n",
       "232       11.61  3.39     No  Sat  Dinner     2  0.291990\n",
       "183       23.17  6.50    Yes  Sun  Dinner     4  0.280535\n",
       "109       14.31  4.00    Yes  Sat  Dinner     2  0.279525"
      ]
     },
     "execution_count": 61,
     "metadata": {},
     "output_type": "execute_result"
    }
   ],
   "source": [
    "# 특정 열에서 가장 큰 값을 갖는 행을 선택하는 함수 정의\n",
    "def top(df, n=5, column=\"tip_pct\"):\n",
    "    return df.sort_values(column, ascending=False)[:n]\n",
    "top(tips, n=6)"
   ]
  },
  {
   "cell_type": "code",
   "execution_count": 62,
   "metadata": {
    "colab": {
     "base_uri": "https://localhost:8080/",
     "height": 331
    },
    "executionInfo": {
     "elapsed": 357,
     "status": "ok",
     "timestamp": 1714289243851,
     "user": {
      "displayName": "김유희",
      "userId": "00390714496880607784"
     },
     "user_tz": -540
    },
    "id": "Ac5L9rP9h7KA",
    "outputId": "8838638c-8946-4b5c-ef35-474be4996d3e"
   },
   "outputs": [
    {
     "name": "stderr",
     "output_type": "stream",
     "text": [
      "C:\\Users\\jeong\\AppData\\Local\\Temp\\ipykernel_10104\\643835440.py:1: DeprecationWarning: DataFrameGroupBy.apply operated on the grouping columns. This behavior is deprecated, and in a future version of pandas the grouping columns will be excluded from the operation. Either pass `include_groups=False` to exclude the groupings or explicitly select the grouping columns after groupby to silence this warning.\n",
      "  tips.groupby([\"smoker\", \"day\"]).apply(top, n=1, column=\"total_bill\")\n"
     ]
    },
    {
     "data": {
      "text/html": [
       "<div>\n",
       "<style scoped>\n",
       "    .dataframe tbody tr th:only-of-type {\n",
       "        vertical-align: middle;\n",
       "    }\n",
       "\n",
       "    .dataframe tbody tr th {\n",
       "        vertical-align: top;\n",
       "    }\n",
       "\n",
       "    .dataframe thead th {\n",
       "        text-align: right;\n",
       "    }\n",
       "</style>\n",
       "<table border=\"1\" class=\"dataframe\">\n",
       "  <thead>\n",
       "    <tr style=\"text-align: right;\">\n",
       "      <th></th>\n",
       "      <th></th>\n",
       "      <th></th>\n",
       "      <th>total_bill</th>\n",
       "      <th>tip</th>\n",
       "      <th>smoker</th>\n",
       "      <th>day</th>\n",
       "      <th>time</th>\n",
       "      <th>size</th>\n",
       "      <th>tip_pct</th>\n",
       "    </tr>\n",
       "    <tr>\n",
       "      <th>smoker</th>\n",
       "      <th>day</th>\n",
       "      <th></th>\n",
       "      <th></th>\n",
       "      <th></th>\n",
       "      <th></th>\n",
       "      <th></th>\n",
       "      <th></th>\n",
       "      <th></th>\n",
       "      <th></th>\n",
       "    </tr>\n",
       "  </thead>\n",
       "  <tbody>\n",
       "    <tr>\n",
       "      <th rowspan=\"4\" valign=\"top\">No</th>\n",
       "      <th>Fri</th>\n",
       "      <th>94</th>\n",
       "      <td>22.75</td>\n",
       "      <td>3.25</td>\n",
       "      <td>No</td>\n",
       "      <td>Fri</td>\n",
       "      <td>Dinner</td>\n",
       "      <td>2</td>\n",
       "      <td>0.142857</td>\n",
       "    </tr>\n",
       "    <tr>\n",
       "      <th>Sat</th>\n",
       "      <th>212</th>\n",
       "      <td>48.33</td>\n",
       "      <td>9.00</td>\n",
       "      <td>No</td>\n",
       "      <td>Sat</td>\n",
       "      <td>Dinner</td>\n",
       "      <td>4</td>\n",
       "      <td>0.186220</td>\n",
       "    </tr>\n",
       "    <tr>\n",
       "      <th>Sun</th>\n",
       "      <th>156</th>\n",
       "      <td>48.17</td>\n",
       "      <td>5.00</td>\n",
       "      <td>No</td>\n",
       "      <td>Sun</td>\n",
       "      <td>Dinner</td>\n",
       "      <td>6</td>\n",
       "      <td>0.103799</td>\n",
       "    </tr>\n",
       "    <tr>\n",
       "      <th>Thur</th>\n",
       "      <th>142</th>\n",
       "      <td>41.19</td>\n",
       "      <td>5.00</td>\n",
       "      <td>No</td>\n",
       "      <td>Thur</td>\n",
       "      <td>Lunch</td>\n",
       "      <td>5</td>\n",
       "      <td>0.121389</td>\n",
       "    </tr>\n",
       "    <tr>\n",
       "      <th rowspan=\"4\" valign=\"top\">Yes</th>\n",
       "      <th>Fri</th>\n",
       "      <th>95</th>\n",
       "      <td>40.17</td>\n",
       "      <td>4.73</td>\n",
       "      <td>Yes</td>\n",
       "      <td>Fri</td>\n",
       "      <td>Dinner</td>\n",
       "      <td>4</td>\n",
       "      <td>0.117750</td>\n",
       "    </tr>\n",
       "    <tr>\n",
       "      <th>Sat</th>\n",
       "      <th>170</th>\n",
       "      <td>50.81</td>\n",
       "      <td>10.00</td>\n",
       "      <td>Yes</td>\n",
       "      <td>Sat</td>\n",
       "      <td>Dinner</td>\n",
       "      <td>3</td>\n",
       "      <td>0.196812</td>\n",
       "    </tr>\n",
       "    <tr>\n",
       "      <th>Sun</th>\n",
       "      <th>182</th>\n",
       "      <td>45.35</td>\n",
       "      <td>3.50</td>\n",
       "      <td>Yes</td>\n",
       "      <td>Sun</td>\n",
       "      <td>Dinner</td>\n",
       "      <td>3</td>\n",
       "      <td>0.077178</td>\n",
       "    </tr>\n",
       "    <tr>\n",
       "      <th>Thur</th>\n",
       "      <th>197</th>\n",
       "      <td>43.11</td>\n",
       "      <td>5.00</td>\n",
       "      <td>Yes</td>\n",
       "      <td>Thur</td>\n",
       "      <td>Lunch</td>\n",
       "      <td>4</td>\n",
       "      <td>0.115982</td>\n",
       "    </tr>\n",
       "  </tbody>\n",
       "</table>\n",
       "</div>"
      ],
      "text/plain": [
       "                 total_bill    tip smoker   day    time  size   tip_pct\n",
       "smoker day                                                             \n",
       "No     Fri  94        22.75   3.25     No   Fri  Dinner     2  0.142857\n",
       "       Sat  212       48.33   9.00     No   Sat  Dinner     4  0.186220\n",
       "       Sun  156       48.17   5.00     No   Sun  Dinner     6  0.103799\n",
       "       Thur 142       41.19   5.00     No  Thur   Lunch     5  0.121389\n",
       "Yes    Fri  95        40.17   4.73    Yes   Fri  Dinner     4  0.117750\n",
       "       Sat  170       50.81  10.00    Yes   Sat  Dinner     3  0.196812\n",
       "       Sun  182       45.35   3.50    Yes   Sun  Dinner     3  0.077178\n",
       "       Thur 197       43.11   5.00    Yes  Thur   Lunch     4  0.115982"
      ]
     },
     "execution_count": 62,
     "metadata": {},
     "output_type": "execute_result"
    }
   ],
   "source": [
    "tips.groupby([\"smoker\", \"day\"]).apply(top, n=1, column=\"total_bill\")"
   ]
  },
  {
   "cell_type": "code",
   "execution_count": 63,
   "metadata": {
    "colab": {
     "base_uri": "https://localhost:8080/",
     "height": 163
    },
    "executionInfo": {
     "elapsed": 545,
     "status": "ok",
     "timestamp": 1714289574911,
     "user": {
      "displayName": "김유희",
      "userId": "00390714496880607784"
     },
     "user_tz": -540
    },
    "id": "-DGfWvHZh7KA",
    "outputId": "4f715b97-bb97-412a-d09b-554b86fd06ae"
   },
   "outputs": [
    {
     "data": {
      "text/html": [
       "<div>\n",
       "<style scoped>\n",
       "    .dataframe tbody tr th:only-of-type {\n",
       "        vertical-align: middle;\n",
       "    }\n",
       "\n",
       "    .dataframe tbody tr th {\n",
       "        vertical-align: top;\n",
       "    }\n",
       "\n",
       "    .dataframe thead th {\n",
       "        text-align: right;\n",
       "    }\n",
       "</style>\n",
       "<table border=\"1\" class=\"dataframe\">\n",
       "  <thead>\n",
       "    <tr style=\"text-align: right;\">\n",
       "      <th></th>\n",
       "      <th>count</th>\n",
       "      <th>mean</th>\n",
       "      <th>std</th>\n",
       "      <th>min</th>\n",
       "      <th>25%</th>\n",
       "      <th>50%</th>\n",
       "      <th>75%</th>\n",
       "      <th>max</th>\n",
       "    </tr>\n",
       "    <tr>\n",
       "      <th>smoker</th>\n",
       "      <th></th>\n",
       "      <th></th>\n",
       "      <th></th>\n",
       "      <th></th>\n",
       "      <th></th>\n",
       "      <th></th>\n",
       "      <th></th>\n",
       "      <th></th>\n",
       "    </tr>\n",
       "  </thead>\n",
       "  <tbody>\n",
       "    <tr>\n",
       "      <th>No</th>\n",
       "      <td>151.0</td>\n",
       "      <td>0.159328</td>\n",
       "      <td>0.039910</td>\n",
       "      <td>0.056797</td>\n",
       "      <td>0.136906</td>\n",
       "      <td>0.155625</td>\n",
       "      <td>0.185014</td>\n",
       "      <td>0.291990</td>\n",
       "    </tr>\n",
       "    <tr>\n",
       "      <th>Yes</th>\n",
       "      <td>93.0</td>\n",
       "      <td>0.163196</td>\n",
       "      <td>0.085119</td>\n",
       "      <td>0.035638</td>\n",
       "      <td>0.106771</td>\n",
       "      <td>0.153846</td>\n",
       "      <td>0.195059</td>\n",
       "      <td>0.710345</td>\n",
       "    </tr>\n",
       "  </tbody>\n",
       "</table>\n",
       "</div>"
      ],
      "text/plain": [
       "        count      mean       std       min       25%       50%       75%  \\\n",
       "smoker                                                                      \n",
       "No      151.0  0.159328  0.039910  0.056797  0.136906  0.155625  0.185014   \n",
       "Yes      93.0  0.163196  0.085119  0.035638  0.106771  0.153846  0.195059   \n",
       "\n",
       "             max  \n",
       "smoker            \n",
       "No      0.291990  \n",
       "Yes     0.710345  "
      ]
     },
     "execution_count": 63,
     "metadata": {},
     "output_type": "execute_result"
    }
   ],
   "source": [
    "result = tips.groupby(\"smoker\")[\"tip_pct\"].describe()\n",
    "result"
   ]
  },
  {
   "cell_type": "code",
   "execution_count": 64,
   "metadata": {
    "colab": {
     "base_uri": "https://localhost:8080/"
    },
    "executionInfo": {
     "elapsed": 387,
     "status": "ok",
     "timestamp": 1714289587498,
     "user": {
      "displayName": "김유희",
      "userId": "00390714496880607784"
     },
     "user_tz": -540
    },
    "id": "V7qWUEiTnx62",
    "outputId": "350e688c-2fc3-4203-ec12-7c372c53412f"
   },
   "outputs": [
    {
     "data": {
      "text/plain": [
       "       smoker\n",
       "count  No        151.000000\n",
       "       Yes        93.000000\n",
       "mean   No          0.159328\n",
       "       Yes         0.163196\n",
       "std    No          0.039910\n",
       "       Yes         0.085119\n",
       "min    No          0.056797\n",
       "       Yes         0.035638\n",
       "25%    No          0.136906\n",
       "       Yes         0.106771\n",
       "50%    No          0.155625\n",
       "       Yes         0.153846\n",
       "75%    No          0.185014\n",
       "       Yes         0.195059\n",
       "max    No          0.291990\n",
       "       Yes         0.710345\n",
       "dtype: float64"
      ]
     },
     "execution_count": 64,
     "metadata": {},
     "output_type": "execute_result"
    }
   ],
   "source": [
    "result.unstack(\"smoker\") # 행과 열을 바꿈\n"
   ]
  },
  {
   "cell_type": "markdown",
   "metadata": {
    "id": "N7uizeUoNr3R"
   },
   "source": [
    "## [문제] \n",
    "* 고객ID와 상품ID를 기준으로 그룹화하여 구매금액의 평균을 계산하고, 그 결과를 상품ID순으로 출력하세요."
   ]
  },
  {
   "cell_type": "code",
   "execution_count": null,
   "metadata": {
    "id": "8zs_FAV_Ntv7"
   },
   "outputs": [],
   "source": [
    "df = pd.DataFrame({\n",
    "    \"고객ID\": [1, 2, 1, 3, 2, 3],\n",
    "    \"상품ID\": [101, 102, 103, 101, 103, 102],\n",
    "    \"구매금액\": [10000, 20000, 30000, 40000, 50000, 60000]\n",
    "})\n",
    "\n",
    "# 고객ID와 상품ID을 기준으로 그룹화하여 구매금액의 평균을 계산\n",
    "average_spent_by_customer_product = df.groupby([\"고객ID\", \"상품ID\"])[\"구매금액\"].mean()\n",
    "\n",
    "# 상품ID을 기준으로 정렬하기\n",
    "average_spent_by_customer_product = average_spent_by_customer_product.sort_index(level = \"상품ID\")\n",
    "print(average_spent_by_customer_product)\n",
    "\n",
    "# 막대그래프로 시각화하기\n",
    "average_spent_by_customer_product.plot.bar()\n",
    "\n",
    "\n",
    "# 그래프 부가 정보 추가하기\n",
    "plt.title(\"Average Purchase Amount by Product ID\")\n",
    "plt.xlabel(\"Product ID\")\n",
    "plt.ylabel(\"Average Purchase Amount\")\n",
    "plt.show()"
   ]
  },
  {
   "cell_type": "code",
   "execution_count": null,
   "metadata": {},
   "outputs": [],
   "source": []
  }
 ],
 "metadata": {
  "colab": {
   "provenance": []
  },
  "kernelspec": {
   "display_name": "Python 3 (ipykernel)",
   "language": "python",
   "name": "python3"
  },
  "language_info": {
   "codemirror_mode": {
    "name": "ipython",
    "version": 3
   },
   "file_extension": ".py",
   "mimetype": "text/x-python",
   "name": "python",
   "nbconvert_exporter": "python",
   "pygments_lexer": "ipython3",
   "version": "3.12.2"
  }
 },
 "nbformat": 4,
 "nbformat_minor": 4
}
