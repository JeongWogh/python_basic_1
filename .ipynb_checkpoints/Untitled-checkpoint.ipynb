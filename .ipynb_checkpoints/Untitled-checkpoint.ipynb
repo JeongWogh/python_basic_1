{
 "cells": [
  {
   "cell_type": "code",
   "execution_count": 2,
   "id": "b56da7dd-0ec6-4744-8a2e-091e6f4a511a",
   "metadata": {},
   "outputs": [],
   "source": [
    "import pandas as pd\n",
    "from pandas import Series, DataFrame"
   ]
  },
  {
   "cell_type": "code",
   "execution_count": 4,
   "id": "68526076-3c03-4aa8-bdde-14c2d1c2f12a",
   "metadata": {},
   "outputs": [
    {
     "data": {
      "text/html": [
       "<div>\n",
       "<style scoped>\n",
       "    .dataframe tbody tr th:only-of-type {\n",
       "        vertical-align: middle;\n",
       "    }\n",
       "\n",
       "    .dataframe tbody tr th {\n",
       "        vertical-align: top;\n",
       "    }\n",
       "\n",
       "    .dataframe thead th {\n",
       "        text-align: right;\n",
       "    }\n",
       "</style>\n",
       "<table border=\"1\" class=\"dataframe\">\n",
       "  <thead>\n",
       "    <tr style=\"text-align: right;\">\n",
       "      <th></th>\n",
       "      <th>이름</th>\n",
       "      <th>나이</th>\n",
       "      <th>성별</th>\n",
       "    </tr>\n",
       "  </thead>\n",
       "  <tbody>\n",
       "    <tr>\n",
       "      <th>0</th>\n",
       "      <td>철수</td>\n",
       "      <td>25</td>\n",
       "      <td>남자</td>\n",
       "    </tr>\n",
       "    <tr>\n",
       "      <th>1</th>\n",
       "      <td>영희</td>\n",
       "      <td>30</td>\n",
       "      <td>여자</td>\n",
       "    </tr>\n",
       "    <tr>\n",
       "      <th>2</th>\n",
       "      <td>민수</td>\n",
       "      <td>22</td>\n",
       "      <td>남자</td>\n",
       "    </tr>\n",
       "    <tr>\n",
       "      <th>3</th>\n",
       "      <td>지영</td>\n",
       "      <td>28</td>\n",
       "      <td>여자</td>\n",
       "    </tr>\n",
       "  </tbody>\n",
       "</table>\n",
       "</div>"
      ],
      "text/plain": [
       "   이름  나이  성별\n",
       "0  철수  25  남자\n",
       "1  영희  30  여자\n",
       "2  민수  22  남자\n",
       "3  지영  28  여자"
      ]
     },
     "execution_count": 4,
     "metadata": {},
     "output_type": "execute_result"
    }
   ],
   "source": [
    "data = {'이름' : ['철수','영희','민수','지영'],\n",
    "       '나이' : [25,30,22,28],\n",
    "       '성별' : ['남자','여자','남자','여자']}\n",
    "df = pd.DataFrame(data)\n",
    "df"
   ]
  },
  {
   "cell_type": "code",
   "execution_count": 9,
   "id": "2c95652d-1f9b-48a7-b906-e5c6959b4235",
   "metadata": {},
   "outputs": [
    {
     "data": {
      "text/html": [
       "<div>\n",
       "<style scoped>\n",
       "    .dataframe tbody tr th:only-of-type {\n",
       "        vertical-align: middle;\n",
       "    }\n",
       "\n",
       "    .dataframe tbody tr th {\n",
       "        vertical-align: top;\n",
       "    }\n",
       "\n",
       "    .dataframe thead th {\n",
       "        text-align: right;\n",
       "    }\n",
       "</style>\n",
       "<table border=\"1\" class=\"dataframe\">\n",
       "  <thead>\n",
       "    <tr style=\"text-align: right;\">\n",
       "      <th></th>\n",
       "      <th>col1</th>\n",
       "      <th>col2</th>\n",
       "      <th>col3</th>\n",
       "      <th>col4</th>\n",
       "    </tr>\n",
       "  </thead>\n",
       "  <tbody>\n",
       "    <tr>\n",
       "      <th>0</th>\n",
       "      <td>a</td>\n",
       "      <td>1.0</td>\n",
       "      <td>a</td>\n",
       "      <td>10.0</td>\n",
       "    </tr>\n",
       "    <tr>\n",
       "      <th>1</th>\n",
       "      <td>b</td>\n",
       "      <td>2.0</td>\n",
       "      <td>b</td>\n",
       "      <td>20.0</td>\n",
       "    </tr>\n",
       "    <tr>\n",
       "      <th>2</th>\n",
       "      <td>c</td>\n",
       "      <td>3.0</td>\n",
       "      <td>NaN</td>\n",
       "      <td>NaN</td>\n",
       "    </tr>\n",
       "    <tr>\n",
       "      <th>3</th>\n",
       "      <td>NaN</td>\n",
       "      <td>NaN</td>\n",
       "      <td>f</td>\n",
       "      <td>30.0</td>\n",
       "    </tr>\n",
       "  </tbody>\n",
       "</table>\n",
       "</div>"
      ],
      "text/plain": [
       "  col1  col2 col3  col4\n",
       "0    a   1.0    a  10.0\n",
       "1    b   2.0    b  20.0\n",
       "2    c   3.0  NaN   NaN\n",
       "3  NaN   NaN    f  30.0"
      ]
     },
     "execution_count": 9,
     "metadata": {},
     "output_type": "execute_result"
    }
   ],
   "source": [
    "data1 = {'col1' : ['a','b','c'], 'col2' : [1,2,3]}\n",
    "data2 = {'col3' : ['a','b','f'], 'col4' : [10,20,30]}\n",
    "df1 = pd.DataFrame(data1)\n",
    "df2 = pd.DataFrame(data2)\n",
    "\n",
    "df3 = pd.merge(df1,df2, left_on = 'col1', right_on = 'col3',how = 'outer')\n",
    "df3"
   ]
  },
  {
   "cell_type": "code",
   "execution_count": 12,
   "id": "ce2218e7-30e1-4b3e-b8e5-a4830bc2eba6",
   "metadata": {},
   "outputs": [
    {
     "data": {
      "text/html": [
       "<div>\n",
       "<style scoped>\n",
       "    .dataframe tbody tr th:only-of-type {\n",
       "        vertical-align: middle;\n",
       "    }\n",
       "\n",
       "    .dataframe tbody tr th {\n",
       "        vertical-align: top;\n",
       "    }\n",
       "\n",
       "    .dataframe thead th {\n",
       "        text-align: right;\n",
       "    }\n",
       "</style>\n",
       "<table border=\"1\" class=\"dataframe\">\n",
       "  <thead>\n",
       "    <tr style=\"text-align: right;\">\n",
       "      <th></th>\n",
       "      <th>name</th>\n",
       "      <th>score</th>\n",
       "    </tr>\n",
       "  </thead>\n",
       "  <tbody>\n",
       "    <tr>\n",
       "      <th>1</th>\n",
       "      <td>영희</td>\n",
       "      <td>88</td>\n",
       "    </tr>\n",
       "    <tr>\n",
       "      <th>2</th>\n",
       "      <td>민수</td>\n",
       "      <td>92</td>\n",
       "    </tr>\n",
       "  </tbody>\n",
       "</table>\n",
       "</div>"
      ],
      "text/plain": [
       "  name  score\n",
       "1   영희     88\n",
       "2   민수     92"
      ]
     },
     "execution_count": 12,
     "metadata": {},
     "output_type": "execute_result"
    }
   ],
   "source": [
    "data = {'name' : ['철수','영희','민수','지영'], 'score' : [75,88,92,68]}\n",
    "df = pd.DataFrame(data)\n",
    "\n",
    "result = df[df['score'] >= 80]\n",
    "result"
   ]
  },
  {
   "cell_type": "code",
   "execution_count": 15,
   "id": "4225222f-7967-4bc2-831d-ce80b96e6e89",
   "metadata": {},
   "outputs": [
    {
     "data": {
      "text/html": [
       "<div>\n",
       "<style scoped>\n",
       "    .dataframe tbody tr th:only-of-type {\n",
       "        vertical-align: middle;\n",
       "    }\n",
       "\n",
       "    .dataframe tbody tr th {\n",
       "        vertical-align: top;\n",
       "    }\n",
       "\n",
       "    .dataframe thead th {\n",
       "        text-align: right;\n",
       "    }\n",
       "</style>\n",
       "<table border=\"1\" class=\"dataframe\">\n",
       "  <thead>\n",
       "    <tr style=\"text-align: right;\">\n",
       "      <th></th>\n",
       "      <th>names</th>\n",
       "      <th>score</th>\n",
       "    </tr>\n",
       "  </thead>\n",
       "  <tbody>\n",
       "    <tr>\n",
       "      <th>0</th>\n",
       "      <td>철수</td>\n",
       "      <td>75</td>\n",
       "    </tr>\n",
       "    <tr>\n",
       "      <th>1</th>\n",
       "      <td>영희</td>\n",
       "      <td>88</td>\n",
       "    </tr>\n",
       "    <tr>\n",
       "      <th>2</th>\n",
       "      <td>민수</td>\n",
       "      <td>92</td>\n",
       "    </tr>\n",
       "    <tr>\n",
       "      <th>3</th>\n",
       "      <td>지영</td>\n",
       "      <td>68</td>\n",
       "    </tr>\n",
       "    <tr>\n",
       "      <th>4</th>\n",
       "      <td>다현</td>\n",
       "      <td>95</td>\n",
       "    </tr>\n",
       "  </tbody>\n",
       "</table>\n",
       "</div>"
      ],
      "text/plain": [
       "  names  score\n",
       "0    철수     75\n",
       "1    영희     88\n",
       "2    민수     92\n",
       "3    지영     68\n",
       "4    다현     95"
      ]
     },
     "execution_count": 15,
     "metadata": {},
     "output_type": "execute_result"
    }
   ],
   "source": [
    "data1 = {'names' : ['철수','영희','민수'], 'score' : [75,88,92]}\n",
    "data2 = {'names' : ['지영','다현'], 'score' : [68,95]}\n",
    "df1 = pd.DataFrame(data1)\n",
    "df2 = pd.DataFrame(data2)\n",
    "\n",
    "list = [df1,df2]\n",
    "\n",
    "result = pd.concat(list, ignore_index = True)\n",
    "result"
   ]
  },
  {
   "cell_type": "code",
   "execution_count": 20,
   "id": "eb201f5e-315e-4a76-b98d-2f37052448c8",
   "metadata": {},
   "outputs": [
    {
     "data": {
      "text/html": [
       "<div>\n",
       "<style scoped>\n",
       "    .dataframe tbody tr th:only-of-type {\n",
       "        vertical-align: middle;\n",
       "    }\n",
       "\n",
       "    .dataframe tbody tr th {\n",
       "        vertical-align: top;\n",
       "    }\n",
       "\n",
       "    .dataframe thead th {\n",
       "        text-align: right;\n",
       "    }\n",
       "</style>\n",
       "<table border=\"1\" class=\"dataframe\">\n",
       "  <thead>\n",
       "    <tr style=\"text-align: right;\">\n",
       "      <th></th>\n",
       "      <th>name</th>\n",
       "      <th>score</th>\n",
       "      <th>attendance_rate</th>\n",
       "    </tr>\n",
       "  </thead>\n",
       "  <tbody>\n",
       "    <tr>\n",
       "      <th>0</th>\n",
       "      <td>철수</td>\n",
       "      <td>75</td>\n",
       "      <td>80</td>\n",
       "    </tr>\n",
       "    <tr>\n",
       "      <th>1</th>\n",
       "      <td>영희</td>\n",
       "      <td>88</td>\n",
       "      <td>90</td>\n",
       "    </tr>\n",
       "  </tbody>\n",
       "</table>\n",
       "</div>"
      ],
      "text/plain": [
       "  name  score  attendance_rate\n",
       "0   철수     75               80\n",
       "1   영희     88               90"
      ]
     },
     "execution_count": 20,
     "metadata": {},
     "output_type": "execute_result"
    }
   ],
   "source": [
    "data1 = {'name' : ['철수','영희','민수'], 'score' : [75,88,92]}\n",
    "data2 = {'name' : ['영희','철수','지영','다현'], 'attendance_rate' : [90,80,95,85]}\n",
    "df1 = pd.DataFrame(data1)\n",
    "df2 = pd.DataFrame(data2)\n",
    "\n",
    "result = pd.merge(df1,df2)\n",
    "result"
   ]
  },
  {
   "cell_type": "markdown",
   "id": "105617e7-9bc3-4ff9-8678-21a1d4266eb8",
   "metadata": {},
   "source": [
    " 20. 윈도우 git Bash 터미널에서 다음 작업을 수행하는데 올바른 명령어를 적으시오. \n",
    "(1) 현재 작업 디렉터리를 확인하기 = pwd\n",
    "(2) 현재 디렉터리의 모든 파일과 디렉터리를 표시하기 = ls\n",
    "(3) 현재 작업 디렉터리가 “/C/Users/USER”일 때 “Desktop”으로 변경하시오 = cd /C/Users/USER/Desktop\n",
    "(4) BeautifulSoup 라이브러리를 설치하기 = pip install beautifulsoup4\n",
    "(5) \"file.txt\" 파일의 내용을 출력하기 = cat file.txt\n",
    "(6) 이름이 \"myenv\"인 가상환경을 생성하기 = python -m venv myenv\n",
    "(7) \"myenv\"인 가상환경을 활성화하기 = source myenv/Scripts/activate\n",
    "(8) 가상환경을 비활성화하기 = deactivate\n",
    "(9) 변경 사항을 “initial Add”으로 깃 커밋하기 = git commit -m \"initial Add\""
   ]
  },
  {
   "cell_type": "code",
   "execution_count": 23,
   "id": "e1409f39-8d54-45f1-b1e4-b3b989b646bf",
   "metadata": {},
   "outputs": [],
   "source": [
    "data = {\n",
    " '이름': ['철수', '영희', '민수', '지영'],\n",
    " '나이': [25, 30, 22, 28],\n",
    " '성별': ['남자', '여자', '남자', '여자']\n",
    "}\n",
    "df = pd.DataFrame(data)\n",
    "\n",
    "df.to_csv('data.csv', index = False)\n",
    "df.to_json('data.json', orient = 'records')"
   ]
  },
  {
   "cell_type": "code",
   "execution_count": 32,
   "id": "08c35b8a-5d13-4666-b66c-421bd95d63d7",
   "metadata": {},
   "outputs": [
    {
     "name": "stdout",
     "output_type": "stream",
     "text": [
      "    A   B\n",
      "0  A0  B0\n",
      "1  A1  B1\n",
      "2  A2  B2\n",
      "3  A3  B3\n",
      "4  A4  B4\n",
      "5  A5  B5\n"
     ]
    }
   ],
   "source": [
    "import pandas as pd\n",
    " # 두 개의 데이터프레임 생성\n",
    "df1 = pd.DataFrame({'A': ['A0', 'A1', 'A2'],\n",
    "                    'B': ['B0', 'B1', 'B2']})\n",
    "df2 = pd.DataFrame({'A': ['A3', 'A4', 'A5'],\n",
    "                    'B': ['B3', 'B4', 'B5']})\n",
    "# 여기에 코드를 작성하세요\n",
    "list = [df1,df2]\n",
    "result = pd.concat(list ,axis = 'index', ignore_index = True)\n",
    "# 결과 출력\n",
    "print(result)"
   ]
  }
 ],
 "metadata": {
  "kernelspec": {
   "display_name": "Python 3 (ipykernel)",
   "language": "python",
   "name": "python3"
  },
  "language_info": {
   "codemirror_mode": {
    "name": "ipython",
    "version": 3
   },
   "file_extension": ".py",
   "mimetype": "text/x-python",
   "name": "python",
   "nbconvert_exporter": "python",
   "pygments_lexer": "ipython3",
   "version": "3.12.2"
  }
 },
 "nbformat": 4,
 "nbformat_minor": 5
}
